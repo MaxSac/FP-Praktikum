{
 "cells": [
  {
   "cell_type": "code",
   "execution_count": 1,
   "metadata": {
    "ExecuteTime": {
     "end_time": "2017-05-13T14:59:36.359409",
     "start_time": "2017-05-13T14:59:35.438169"
    },
    "collapsed": false
   },
   "outputs": [],
   "source": [
    "import matplotlib.pyplot as plt\n",
    "import numpy as np\n",
    "from scipy.optimize import curve_fit\n",
    "from uncertainties import ufloat\n",
    "import uncertainties.unumpy as unp\n",
    "import scipy.constants as c\n",
    "from scipy import stats\n",
    "\n",
    "%matplotlib inline"
   ]
  },
  {
   "cell_type": "markdown",
   "metadata": {},
   "source": [
    "# Messdaten"
   ]
  },
  {
   "cell_type": "markdown",
   "metadata": {
    "heading_collapsed": true
   },
   "source": [
    "## Volumenbestimmung in cm$^3$"
   ]
  },
  {
   "cell_type": "code",
   "execution_count": 2,
   "metadata": {
    "ExecuteTime": {
     "end_time": "2017-05-13T14:59:38.515915",
     "start_time": "2017-05-13T14:59:38.408192"
    },
    "collapsed": false,
    "hidden": true
   },
   "outputs": [
    {
     "name": "stdout",
     "output_type": "stream",
     "text": [
      "V-Rezipient =  (7.3+/-0.7)e+03\n",
      "V-Schlauch =  (4.7+/-1.2)e+02\n",
      "V-Nadelventil + T-Stück =  144+/-16\n",
      "V-Turbo =  (2.5+/-0.5)e+02\n",
      "V-Pirani =  14+/-4\n",
      "V-Anschluss =  168+/-17\n",
      "VD =  8.4+/-0.7\n",
      "VT =  8.2+/-0.7\n"
     ]
    }
   ],
   "source": [
    "# Rezipient für beide\n",
    "drez1 = ufloat(15.2, 0.7)\n",
    "lrez1 = ufloat(39.1, 0.5)\n",
    "Vrez1 = np.pi * lrez1 * drez1**2 / 4\n",
    "\n",
    "drez2 = ufloat(2.2, 0.2)\n",
    "lrez2 = ufloat(7.2, 0.5)\n",
    "Vrez2 = np.pi * lrez2 * drez2**2 / 4\n",
    "\n",
    "drez3 = ufloat(3.2, 0.2)\n",
    "lrez3 = ufloat(8.1, 0.5)\n",
    "Vrez3 = np.pi * lrez3 * drez3**2 / 4\n",
    "\n",
    "drez4 = ufloat(4.0, 0.2)\n",
    "lrez4 = ufloat(12.9, 0.5)\n",
    "Vrez4 = np.pi * lrez4 * drez4**2 / 4\n",
    "\n",
    "VRez = Vrez1 + Vrez2 + Vrez3 + Vrez4\n",
    "print(\"V-Rezipient = \", VRez)\n",
    "\n",
    "\n",
    "\n",
    "# Schlauch für beide\n",
    "dS = ufloat(3.9, 0.5)\n",
    "lS = ufloat(39, 0.5)\n",
    "VS = np.pi * lS * dS**2 / 4\n",
    "print(\"V-Schlauch = \", VS)\n",
    "\n",
    "\n",
    "\n",
    "# Nadelventil\n",
    "dnadel = ufloat(1.0, 0.5)\n",
    "lnadel = ufloat(2.5, 0.5)\n",
    "Vnadel = np.pi * lnadel * dnadel**2 / 4\n",
    "\n",
    "# Kugelventil\n",
    "dkugel = ufloat(1.6, 0.5)\n",
    "lkugel = ufloat(7.4, 0.2)\n",
    "Vkugel = np.pi * lkugel * dkugel**2 / 4\n",
    "\n",
    "# T-Stück für das Nadelventil\n",
    "dnadelT1 = ufloat(4, 0.2)\n",
    "lnadelT1 = ufloat(10, 0.2)\n",
    "VnadelT1 = np.pi * lnadelT1 * dnadelT1**2 / 4\n",
    "\n",
    "dnadelT2 = ufloat(1, 0.2)\n",
    "lnadelT2 = ufloat(2.4, 0.5)\n",
    "VnadelT2 = np.pi * lnadelT2* dnadelT2**2 / 4\n",
    "\n",
    "VnadelT = VnadelT1 + VnadelT2\n",
    "VNadel = Vnadel + Vkugel + VnadelT\n",
    "print(\"V-Nadelventil + T-Stück = \", VNadel)\n",
    "\n",
    "\n",
    "\n",
    "# T-Stück (von der Turbopumpe) für beide\n",
    "dturbo1 = ufloat(4, 0.5)\n",
    "lturbo1 = ufloat(16, 0.5)\n",
    "Vturbo1 = np.pi * lturbo1 * dturbo1**2 / 4\n",
    "\n",
    "dturbo2 = ufloat(3.9, 0.5)\n",
    "lturbo2 = ufloat(4.5, 0.5)\n",
    "Vturbo2 = np.pi * lturbo2 * dturbo2**2 / 4\n",
    "\n",
    "VTurbo = Vturbo1 + Vturbo2\n",
    "print(\"V-Turbo = \", VTurbo)\n",
    "\n",
    "\n",
    "\n",
    "# T-Stück (pirani) nur für Drehschieberpumpe\n",
    "dpirani1 = ufloat(1.3, 0.2)\n",
    "lpirani1 = ufloat(8, 0.2)\n",
    "Vpirani1 = np.pi * lpirani1 * dpirani1**2 / 4\n",
    "\n",
    "dpirani2 = ufloat(1.2, 0.2)\n",
    "lpirani2 = ufloat(3.3, 0.5)\n",
    "Vpirani2 = np.pi * lpirani2 * dpirani2**2 / 4\n",
    "\n",
    "VPirani = Vpirani1 + Vpirani2\n",
    "print(\"V-Pirani = \", VPirani)\n",
    "\n",
    "\n",
    "\n",
    "# T-Stück (anschluss) nur für Drehschieberpumpe\n",
    "dan1 = ufloat(4, 0.2)\n",
    "lan1 = ufloat(13, 0.2)\n",
    "Van1 = np.pi * lan1 * dan1**2 / 4\n",
    "\n",
    "dan2 = ufloat(1.6, 0.2)\n",
    "lan2 = ufloat(2.5, 0.5)\n",
    "Van2 = np.pi * lan2 * dan2**2 / 4\n",
    "\n",
    "VAn = Van1 + Van2\n",
    "print(\"V-Anschluss = \", VAn)\n",
    "\n",
    "\n",
    "\n",
    "# Gesamtvolumen in l für die Drehschieberpumpe\n",
    "VD = VRez + VS + VNadel + VTurbo + VPirani + VAn\n",
    "VD = VD / 1000\n",
    "print(\"VD = \", VD)\n",
    "\n",
    "VT = VRez + VS + VNadel + VTurbo\n",
    "VT = VT / 1000\n",
    "print(\"VT = \", VT)"
   ]
  },
  {
   "cell_type": "markdown",
   "metadata": {
    "heading_collapsed": true
   },
   "source": [
    "## Daten für die Drehschieberpumpe"
   ]
  },
  {
   "cell_type": "code",
   "execution_count": 3,
   "metadata": {
    "ExecuteTime": {
     "end_time": "2017-05-13T14:59:40.245665",
     "start_time": "2017-05-13T14:59:40.224596"
    },
    "collapsed": true,
    "hidden": true
   },
   "outputs": [],
   "source": [
    "# Anfangsdruck p0 = 1013 mbar\n",
    "p0D = 1013\n",
    "\n",
    "# Enddruck pe = 0.02 mbar\n",
    "peD = 0.02\n",
    "\n",
    "# Daten für die p(t)-Kurve der Drehschieberpumpe\n",
    "p_D, t_1D, t_2D, t_3D, t_4D, t_5D = np.genfromtxt('data/p(t)-Kurve-Drehschieberpumpe.txt', unpack=True)\n",
    "\n",
    "# Daten für die Leckratenmessung der Drehschieberpumpe\n",
    "# Anfangsdruck p_g = 0.1 mbar\n",
    "p_gD1 = 0.1\n",
    "pD1, t1D1, t2D1, t3D1 = np.genfromtxt('data/Leckratenmessung-0.1mbar-Drehschieberpumpe.txt', unpack=True)\n",
    "\n",
    "# Anfangsdruck p_g = 0.4 mbar\n",
    "p_gD2 = 0.4\n",
    "pD2, t1D2, t2D2, t3D2 = np.genfromtxt('data/Leckratenmessung-0.4mbar-Drehschieberpumpe.txt', unpack=True)\n",
    "\n",
    "# Anfangsdruck p_g = 0.6 mbar\n",
    "p_gD3 = 0.6\n",
    "pD3, t1D3, t2D3, t3D3 = np.genfromtxt('data/Leckratenmessung-0.6mbar-Drehschieberpumpe.txt', unpack=True)\n",
    "\n",
    "# Anfangsdruck p_g = 0.8 mbar\n",
    "p_gD4 = 0.8\n",
    "pD4, t1D4, t2D4, t3D4 = np.genfromtxt('data/Leckratenmessung-0.8mbar-Drehschieberpumpe.txt', unpack=True)\n",
    "\n",
    "# Anfangsdruck p_g = 1.0 mbar\n",
    "p_gD5 = 1.0\n",
    "pD5, t1D5, t2D5, t3D5 = np.genfromtxt('data/Leckratenmessung-1.0mbar-Drehschieberpumpe.txt', unpack=True)\n"
   ]
  },
  {
   "cell_type": "markdown",
   "metadata": {
    "heading_collapsed": true
   },
   "source": [
    "## Daten für die Turbopumpe"
   ]
  },
  {
   "cell_type": "code",
   "execution_count": 4,
   "metadata": {
    "ExecuteTime": {
     "end_time": "2017-05-13T14:59:41.601589",
     "start_time": "2017-05-13T14:59:41.505678"
    },
    "collapsed": false,
    "hidden": true
   },
   "outputs": [
    {
     "name": "stderr",
     "output_type": "stream",
     "text": [
      "/home/philip/.local/anaconda3/lib/python3.5/site-packages/numpy/lib/npyio.py:1487: UserWarning: genfromtxt: Empty input file: \"data/Leckratenmessung-5mbar-Turbopumpe.txt\"\n",
      "  warnings.warn('genfromtxt: Empty input file: \"%s\"' % fname)\n"
     ]
    },
    {
     "ename": "ValueError",
     "evalue": "not enough values to unpack (expected 4, got 0)",
     "output_type": "error",
     "traceback": [
      "\u001b[0;31m---------------------------------------------------------------------------\u001b[0m",
      "\u001b[0;31mValueError\u001b[0m                                Traceback (most recent call last)",
      "\u001b[0;32m<ipython-input-4-3642d56aca5e>\u001b[0m in \u001b[0;36m<module>\u001b[0;34m()\u001b[0m\n\u001b[1;32m     11\u001b[0m \u001b[0;31m# Anfangsdruck p_g = 0.1 mbar\u001b[0m\u001b[0;34m\u001b[0m\u001b[0;34m\u001b[0m\u001b[0m\n\u001b[1;32m     12\u001b[0m \u001b[0mp_gT1\u001b[0m \u001b[0;34m=\u001b[0m \u001b[0;36m0.1\u001b[0m\u001b[0;34m\u001b[0m\u001b[0m\n\u001b[0;32m---> 13\u001b[0;31m \u001b[0mpT1\u001b[0m\u001b[0;34m,\u001b[0m \u001b[0mt1T1\u001b[0m\u001b[0;34m,\u001b[0m \u001b[0mt2T1\u001b[0m\u001b[0;34m,\u001b[0m \u001b[0mt3T1\u001b[0m \u001b[0;34m=\u001b[0m \u001b[0mnp\u001b[0m\u001b[0;34m.\u001b[0m\u001b[0mgenfromtxt\u001b[0m\u001b[0;34m(\u001b[0m\u001b[0;34m'data/Leckratenmessung-5mbar-Turbopumpe.txt'\u001b[0m\u001b[0;34m,\u001b[0m \u001b[0munpack\u001b[0m\u001b[0;34m=\u001b[0m\u001b[0;32mTrue\u001b[0m\u001b[0;34m)\u001b[0m\u001b[0;34m\u001b[0m\u001b[0m\n\u001b[0m\u001b[1;32m     14\u001b[0m \u001b[0;34m\u001b[0m\u001b[0m\n\u001b[1;32m     15\u001b[0m \u001b[0;31m# Anfangsdruck p_g = 0.4 mbar\u001b[0m\u001b[0;34m\u001b[0m\u001b[0;34m\u001b[0m\u001b[0m\n",
      "\u001b[0;31mValueError\u001b[0m: not enough values to unpack (expected 4, got 0)"
     ]
    }
   ],
   "source": [
    "# Anfangsdruck p0 = 5 * 10^-3 mbar\n",
    "p0T = 5 * 10**(-3)\n",
    "\n",
    "# Enddruck pe = 2 * 10^-5 mbar\n",
    "peT = 2 * 10**(-5)\n",
    "\n",
    "# Daten für die p(t)-Kurve der Drehschieberpumpe\n",
    "p_T, t_1T, t_2T, t_3T, t_4T, t_5T = np.genfromtxt('data/p(t)-Kurve-Turbopumpe.txt', unpack=True)\n",
    "\n",
    "# Daten für die Leckratenmessung der Drehschieberpumpe\n",
    "# Anfangsdruck p_g = 0.1 mbar\n",
    "p_gT1 = 0.1\n",
    "pT1, t1T1, t2T1, t3T1 = np.genfromtxt('data/Leckratenmessung-5mbar-Turbopumpe.txt', unpack=True)\n",
    "\n",
    "# Anfangsdruck p_g = 0.4 mbar\n",
    "p_gT2 = 0.4\n",
    "pT2, t1T2, t2T2, t3T2 = np.genfromtxt('data/Leckratenmessung-10mbar-Turbopumpe.txt', unpack=True)\n",
    "\n",
    "# Anfangsdruck p_g = 0.6 mbar\n",
    "p_gT3 = 0.6\n",
    "pT3, t1T3, t2T3, t3T3 = np.genfromtxt('data/Leckratenmessung-15mbar-Turbopumpe.txt', unpack=True)\n",
    "\n",
    "# Anfangsdruck p_g = 0.8 mbar\n",
    "p_gT4 = 0.8\n",
    "pT4, t1T4, t2T4, t3T4 = np.genfromtxt('data/Leckratenmessung-20mbar-Turbopumpe.txt', unpack=True)\n"
   ]
  },
  {
   "cell_type": "markdown",
   "metadata": {},
   "source": [
    "# Funktionen"
   ]
  },
  {
   "cell_type": "code",
   "execution_count": 5,
   "metadata": {
    "ExecuteTime": {
     "end_time": "2017-05-13T14:59:42.502563",
     "start_time": "2017-05-13T14:59:42.500314"
    },
    "collapsed": true
   },
   "outputs": [],
   "source": [
    "def f(x, a, b):\n",
    "    return a * x + b"
   ]
  },
  {
   "cell_type": "markdown",
   "metadata": {
    "heading_collapsed": true
   },
   "source": [
    "## Funktion zur Bestimmung des Saugvermögens S aus der Leckrate"
   ]
  },
  {
   "cell_type": "code",
   "execution_count": 6,
   "metadata": {
    "ExecuteTime": {
     "end_time": "2017-05-13T14:59:43.498390",
     "start_time": "2017-05-13T14:59:43.456603"
    },
    "collapsed": false,
    "hidden": true
   },
   "outputs": [],
   "source": [
    "def Leckrate(p, p_g, t1, t2, t3, V, name):\n",
    "    n = len(p)\n",
    "    t = np.zeros(n)\n",
    "    terr = np.zeros(n)\n",
    "    \n",
    "    # Mittelwert und Fehler der Zeit\n",
    "    for i in range(n):\n",
    "        t[i] = (t1[i] + t2[i] + t3[i])/3\n",
    "        terr[i] = stats.sem([t1[i], t2[i], t3[i]])\n",
    "        \n",
    "    # Fehler vom Druck\n",
    "    perr = p * 0.1\n",
    "    \n",
    "    # lineare Regression\n",
    "    params, covariance = curve_fit(f, t, p)\n",
    "    errors = np.sqrt(np.diag(covariance))\n",
    "    \n",
    "    # plottet das ganze\n",
    "    x = np.linspace(t[0]-20, t[-1]+20, 20)\n",
    "    plt.errorbar(t, p, xerr=terr, yerr=perr, fmt='o', label='Messdaten')\n",
    "    plt.plot(x, f(x, *params), label='lineare Regression')\n",
    "    plt.xlabel(r'$t$ / s')\n",
    "    plt.ylabel(r'$p$ / mbar')\n",
    "    plt.xlim(t[0]-20, t[-1]+20)\n",
    "    plt.legend(loc='best')\n",
    "    plt.savefig(\"pictures/Leck-\"+name+\"-D.pdf\")\n",
    "    plt.close()\n",
    "    \n",
    "    # Berechnung des Saugvermögens aus der Steigung\n",
    "    S = V * params[0] / p_g\n",
    "    \n",
    "    print(\"Druck p[mbar] = \", p)\n",
    "    print(\"Fehler vom Druck perr = \", perr)\n",
    "    print(\"Mittelwert der Zeit t[s] = \", t)\n",
    "    print(\"Fehler der Zeit terr = \", terr)\n",
    "    print(\"Parameter a und b = \", params, \"+-\", errors)\n",
    "    print(\"Saugvermögen S[l/s] = \", S)\n",
    "    print(\" \")\n",
    "    "
   ]
  },
  {
   "cell_type": "markdown",
   "metadata": {},
   "source": [
    "## Funktion zur Bestimmung des Saugvermögens S aus der p(t)-Kurve für die Drehschieberpumpe"
   ]
  },
  {
   "cell_type": "code",
   "execution_count": 7,
   "metadata": {
    "ExecuteTime": {
     "end_time": "2017-05-13T14:59:44.439505",
     "start_time": "2017-05-13T14:59:44.365664"
    },
    "collapsed": false
   },
   "outputs": [],
   "source": [
    "def ptKurve(p, p0, pe, t1, t2, t3, t4, t5, V, name):\n",
    "    n = len(p)\n",
    "    t = np.zeros(n)\n",
    "    terr = np.zeros(n)\n",
    "    V = np.array([V])\n",
    "\n",
    "    # Mittelwert und Fehler der Zeit\n",
    "    for i in range(n):\n",
    "        t[i] = (t1[i] + t2[i] + t3[i] + t4[i] + t5[i]) / 5\n",
    "        terr[i] = stats.sem([t1[i], t2[i], t3[i], t4[i], t5[i]])\n",
    "    print(\"t = \", t)\n",
    "    print(\"terr = \", terr)\n",
    "\n",
    "    # Fehler vom Druck\n",
    "    perr = p * 0.1\n",
    "    \n",
    "    # y-Achse\n",
    "    logP = -np.log( (p-pe) / (p0-pe) ) * unp.nominal_values(V)\n",
    "    print(\"y-Achse des Plottes =\", logP)\n",
    "    \n",
    "    \n",
    "    # Bereiche bestimmen und lineare Regression\n",
    "    t_1 = t[0:3]\n",
    "    logP_1 = logP[0:3]\n",
    "    params_1, covariance_1 = curve_fit(f, t_1, logP_1)\n",
    "    errors_1 = np.sqrt(np.diag(covariance_1))\n",
    "    t1 = np.linspace(t_1[0]-10, t_1[-1]+10)\n",
    "    print(\"Parameter a und b =\", params_1, \"+-\", errors_1)\n",
    "    \n",
    "    t_2 = t[3:9]\n",
    "    logP_2 = logP[3:9]\n",
    "    params_2, covariance_2 = curve_fit(f, t_2, logP_2)\n",
    "    errors_2 = np.sqrt(np.diag(covariance_2))\n",
    "    t2 = np.linspace(t_2[0]-10, t_2[-1]+10)\n",
    "    print(\"Parameter a und b =\", params_2, \"+-\", errors_2)\n",
    "    \n",
    "    t_3 = t[9:14]\n",
    "    logP_3 = logP[9:14]\n",
    "    params_3, covariance_3 = curve_fit(f, t_3, logP_3)\n",
    "    errors_3 = np.sqrt(np.diag(covariance_3))\n",
    "    t3 = np.linspace(t_3[0]-10, t_3[-1]+10)\n",
    "    print(\"Parameter a und b =\", params_3, \"+-\", errors_3)\n",
    "    \n",
    "    t_4 = t[14:18]\n",
    "    logP_4 = logP[14:18]\n",
    "    params_4, covariance_4 = curve_fit(f, t_4, logP_4)\n",
    "    errors_4 = np.sqrt(np.diag(covariance_4))\n",
    "    t4 = np.linspace(t_4[0]-10, t_4[-1]+10)\n",
    "    print(\"Parameter a und b =\", params_4, \"+-\", errors_4)\n",
    "    \n",
    "    \n",
    "    # plottet alles\n",
    "    plt.errorbar(t_1, logP_1, xerr=0, yerr=0, c='green', fmt='.')\n",
    "    plt.plot(t1, f(t1, *params_1), c='green')\n",
    "    \n",
    "    plt.errorbar(t_2, logP_2, xerr=0, yerr=0, c='blue', fmt='.')\n",
    "    plt.plot(t2, f(t2, *params_2), c='blue')\n",
    "    \n",
    "    plt.errorbar(t_3, logP_3, xerr=0, yerr=0, c='yellow', fmt='.')\n",
    "    plt.plot(t3, f(t3, *params_3), c='yellow')\n",
    "    \n",
    "    plt.errorbar(t_4, logP_4, xerr=0, yerr=0, c='red', fmt='.')\n",
    "    plt.plot(t4, f(t4, *params_4), c='red')\n",
    "    \n",
    "    plt.xlabel(r'$t$ / s')\n",
    "    plt.ylabel(r'-ln$\\left(\\frac{p-p_e}{p_0-p_e}\\right)\\cdot V_0$ / l')\n",
    "    plt.xlim(t[0]-20, t[-1]+20)\n",
    "    plt.legend(loc='best')\n",
    "    plt.savefig(\"pictures/pt-Kurve-Drehschieberpumpe.pdf\")"
   ]
  },
  {
   "cell_type": "code",
   "execution_count": 8,
   "metadata": {
    "ExecuteTime": {
     "end_time": "2017-05-13T14:59:48.935420",
     "start_time": "2017-05-13T14:59:44.985806"
    },
    "collapsed": false,
    "scrolled": true
   },
   "outputs": [
    {
     "name": "stdout",
     "output_type": "stream",
     "text": [
      "t =  [  16.    26.    32.4   40.    47.2   49.6   52.8   57.    63.6   70.8\n",
      "   73.6   77.8   84.4   96.8  108.4  114.   124.4  155.2]\n",
      "terr =  [ 0.31622777  0.31622777  0.50990195  0.4472136   0.37416574  0.4\n",
      "  0.37416574  0.31622777  0.24494897  0.37416574  0.4         0.48989795\n",
      "  0.50990195  0.37416574  0.50990195  0.31622777  0.50990195  2.596151  ]\n",
      "y-Achse des Plottes = [ 19.44589604  23.73666532  27.1429517   32.96784502  38.79694655\n",
      "  40.67499886  43.09782245  46.51676304  52.37975925  58.28570505\n",
      "  60.20250312  62.69039017  66.24132325  72.51604323  79.32581566\n",
      "  81.74162087  85.14650709  90.96719852]\n",
      "Parameter a und b = [  0.46579732  11.89006411] +- [ 0.02789543  0.7169651 ]\n",
      "Parameter a und b = [ 0.81675402  0.17950658] +- [ 0.01142157  0.59658473]\n",
      "Parameter a und b = [  0.54157869  20.29262414] +- [ 0.01506262  1.22324864]\n",
      "Parameter a und b = [  0.23820648  54.40037218] +- [ 0.0292569   3.70965985]\n"
     ]
    },
    {
     "name": "stderr",
     "output_type": "stream",
     "text": [
      "/home/philip/.local/anaconda3/lib/python3.5/site-packages/matplotlib/axes/_axes.py:531: UserWarning: No labelled objects found. Use label='...' kwarg on individual plots.\n",
      "  warnings.warn(\"No labelled objects found. \"\n"
     ]
    },
    {
     "data": {
      "image/png": "[encoded data removed]",
      "text/plain": [
       "<matplotlib.figure.Figure at 0x7f81a26644a8>"
      ]
     },
     "metadata": {},
     "output_type": "display_data"
    }
   ],
   "source": [
    "ptKurve(p_D, p0D, peD, t_1D, t_2D, t_3D, t_4D, t_5D, VD, \"test\")"
   ]
  },
  {
   "cell_type": "markdown",
   "metadata": {},
   "source": [
    "# Bestimmung des Saugvermögens über die Leckrate"
   ]
  },
  {
   "cell_type": "markdown",
   "metadata": {},
   "source": [
    "## Für die Drehschieberpumpe"
   ]
  },
  {
   "cell_type": "code",
   "execution_count": 9,
   "metadata": {
    "ExecuteTime": {
     "end_time": "2017-05-13T14:59:55.276132",
     "start_time": "2017-05-13T14:59:48.937016"
    },
    "collapsed": false
   },
   "outputs": [
    {
     "name": "stdout",
     "output_type": "stream",
     "text": [
      "Druck p[mbar] =  [ 0.2  0.4  0.6  0.8  1. ]\n",
      "Fehler vom Druck perr =  [ 0.02  0.04  0.06  0.08  0.1 ]\n",
      "Mittelwert der Zeit t[s] =  [  11.66666667   46.66666667   94.66666667  141.          177.        ]\n",
      "Fehler der Zeit terr =  [ 0.33333333  0.33333333  0.33333333  0.57735027  1.15470054]\n",
      "Parameter a und b =  [ 0.00469161  0.15805079] +- [ 0.00014942  0.01670424]\n",
      "Saugvermögen S[l/s] =  0.394+/-0.032\n",
      " \n",
      "Druck p[mbar] =  [ 0.6  0.8  1.   2.   4. ]\n",
      "Fehler vom Druck perr =  [ 0.06  0.08  0.1   0.2   0.4 ]\n",
      "Mittelwert der Zeit t[s] =  [  6.66666667  14.33333333  20.          50.66666667  99.        ]\n",
      "Fehler der Zeit terr =  [ 0.33333333  0.33333333  0.          0.33333333  0.57735027]\n",
      "Parameter a und b =  [ 0.03697076  0.27018165] +- [ 0.00137194  0.07000391]\n",
      "Saugvermögen S[l/s] =  0.78+/-0.06\n",
      " \n",
      "Druck p[mbar] =  [ 0.8  1.   2.   4.   6. ]\n",
      "Fehler vom Druck perr =  [ 0.08  0.1   0.2   0.4   0.6 ]\n",
      "Mittelwert der Zeit t[s] =  [  4.           7.33333333  24.66666667  54.          81.        ]\n",
      "Fehler der Zeit terr =  [ 0.          0.33333333  0.33333333  1.15470054  0.57735027]\n",
      "Parameter a und b =  [ 0.06731023  0.45799006] +- [ 0.00172201  0.07760583]\n",
      "Saugvermögen S[l/s] =  0.94+/-0.08\n",
      " \n",
      "Druck p[mbar] =  [ 1.  2.  4.  6.  8.]\n",
      "Fehler vom Druck perr =  [ 0.1  0.2  0.4  0.6  0.8]\n",
      "Mittelwert der Zeit t[s] =  [  2.33333333  14.33333333  36.33333333  55.33333333  76.33333333]\n",
      "Fehler der Zeit terr =  [ 0.33333333  0.33333333  0.33333333  0.8819171   0.8819171 ]\n",
      "Parameter a und b =  [ 0.09541009  0.6761873 ] +- [ 0.00183037  0.08355616]\n",
      "Saugvermögen S[l/s] =  1.00+/-0.08\n",
      " \n",
      "Druck p[mbar] =  [  2.   4.   6.   8.  10.]\n",
      "Fehler vom Druck perr =  [ 0.2  0.4  0.6  0.8  1. ]\n",
      "Mittelwert der Zeit t[s] =  [ 10.          27.33333333  41.33333333  57.33333333  72.33333333]\n",
      "Fehler der Zeit terr =  [ 0.          0.33333333  0.33333333  0.33333333  0.8819171 ]\n",
      "Parameter a und b =  [ 0.12919993  0.61666977] +- [ 0.00218068  0.10263018]\n",
      "Saugvermögen S[l/s] =  1.08+/-0.09\n",
      " \n"
     ]
    }
   ],
   "source": [
    "Leckrate(pD1, p_gD1, t1D1, t2D1, t3D1, VD, \"0.1mbar\")\n",
    "Leckrate(pD2, p_gD2, t1D2, t2D2, t3D2, VD, \"0.4mbar\")\n",
    "Leckrate(pD3, p_gD3, t1D3, t2D3, t3D3, VD, \"0.6mbar\")\n",
    "Leckrate(pD4, p_gD4, t1D4, t2D4, t3D4, VD, \"0.8mbar\")\n",
    "Leckrate(pD5, p_gD5, t1D5, t2D5, t3D5, VD, \"1.0mbar\")"
   ]
  },
  {
   "cell_type": "markdown",
   "metadata": {},
   "source": [
    "## Für die Turbopumpe"
   ]
  },
  {
   "cell_type": "code",
   "execution_count": null,
   "metadata": {
    "collapsed": true
   },
   "outputs": [],
   "source": []
  }
 ],
 "metadata": {
  "anaconda-cloud": {},
  "kernelspec": {
   "display_name": "Python [default]",
   "language": "python",
   "name": "python3"
  },
  "language_info": {
   "codemirror_mode": {
    "name": "ipython",
    "version": 3
   },
   "file_extension": ".py",
   "mimetype": "text/x-python",
   "name": "python",
   "nbconvert_exporter": "python",
   "pygments_lexer": "ipython3",
   "version": "3.5.2"
  }
 },
 "nbformat": 4,
 "nbformat_minor": 2
}
