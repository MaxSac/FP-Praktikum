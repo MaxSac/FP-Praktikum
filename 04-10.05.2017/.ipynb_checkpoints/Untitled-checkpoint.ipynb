{
 "cells": [
  {
   "cell_type": "code",
   "execution_count": 1,
   "metadata": {
    "ExecuteTime": {
     "end_time": "2017-06-10T09:29:26.853418",
     "start_time": "2017-06-10T09:29:26.058324"
    },
    "collapsed": false
   },
   "outputs": [],
   "source": [
    "import matplotlib.pyplot as plt\n",
    "import numpy as np\n",
    "from scipy.optimize import curve_fit\n",
    "from uncertainties import ufloat\n",
    "import uncertainties.unumpy as unp\n",
    "from scipy import stats\n",
    "\n",
    "%matplotlib inline\n",
    "plt.rc('font', size=8)          # controls default text sizes\n",
    "plt.rc('axes', titlesize=8)     # fontsize of the axes title\n",
    "plt.rc('axes', labelsize=15)    # fontsize of the x and y labels\n",
    "plt.rc('xtick', labelsize=10)    # fontsize of the tick labels\n",
    "plt.rc('ytick', labelsize=10)    # fontsize of the tick labels\n",
    "plt.rc('legend', fontsize=8)    # legend fontsize\n",
    "plt.rc('figure', titlesize=12)"
   ]
  },
  {
   "cell_type": "markdown",
   "metadata": {},
   "source": [
    "# Messdaten"
   ]
  },
  {
   "cell_type": "markdown",
   "metadata": {},
   "source": [
    "## Volumenbestimmung in cm$^3$"
   ]
  },
  {
   "cell_type": "code",
   "execution_count": 2,
   "metadata": {
    "ExecuteTime": {
     "end_time": "2017-06-10T09:29:27.386456",
     "start_time": "2017-06-10T09:29:27.245452"
    },
    "collapsed": false
   },
   "outputs": [
    {
     "name": "stdout",
     "output_type": "stream",
     "text": [
      "               8.9+/-0.8 | 49.1+/-0.5 | 15.2+/-0.7\n",
      "               0.027+/-0.005 | 7.2+/-0.5 | 2.20+/-0.20\n",
      "               0.065+/-0.009 | 8.1+/-0.5 | 3.20+/-0.20\n",
      "               0.162+/-0.017 | 12.9+/-0.5 | 4.00+/-0.20\n",
      "V-Rezipient =  9.2+/-0.8\n",
      "--------------------\n",
      "V-Schlauch =  0.47+/-0.12 | 39.0+/-0.5 | 3.9+/-0.5\n",
      "--------------------\n",
      "V-nadel = 0.0020+/-0.0020 | 2.5+/-0.5 | 1.0+/-0.5\n",
      "--------------------\n",
      "V-kugel = 0.015+/-0.009 | 7.4+/-0.5 | 1.6+/-0.5\n",
      "--------------------\n",
      "           0.126+/-0.013 | 10.00+/-0.20 | 4.00+/-0.20\n",
      "           0.0019+/-0.0009 | 2.4+/-0.5 | 1.00+/-0.20\n",
      "T1-V-nadelT = 0.128+/-0.013\n",
      "--------------------\n",
      "           0.20+/-0.05 | 16.0+/-0.5 | 4.0+/-0.5\n",
      "           0.054+/-0.015 | 4.5+/-0.5 | 3.9+/-0.5\n",
      "T2-V-Turbo =  0.25+/-0.05\n",
      "--------------------\n",
      "            0.0106+/-0.0033 | 8.00+/-0.20 | 1.30+/-0.20\n",
      "            0.0037+/-0.0014 | 3.3+/-0.5 | 1.20+/-0.20\n",
      "T3-V-Pirani =  0.014+/-0.004\n",
      "--------------------\n",
      "            0.163+/-0.017 | 13.00+/-0.20 | 4.00+/-0.20\n",
      "            0.0050+/-0.0016 | 2.5+/-0.5 | 1.60+/-0.20\n",
      "T4-V-Anschluss =  0.168+/-0.017\n",
      "--------------------\n",
      "VD =  10.2+/-0.8\n",
      "VT =  10.0+/-0.8\n"
     ]
    }
   ],
   "source": [
    "# Rezipient für beide\n",
    "drez1 = ufloat(15.2, 0.7)\n",
    "lrez1 = ufloat(49.1, 0.5)\n",
    "Vrez1 = np.pi * lrez1 * drez1**2 / 4000\n",
    "print(\"              \", Vrez1, \"|\", lrez1, \"|\", drez1)\n",
    "\n",
    "drez2 = ufloat(2.2, 0.2)\n",
    "lrez2 = ufloat(7.2, 0.5)\n",
    "Vrez2 = np.pi * lrez2 * drez2**2 / 4000\n",
    "print(\"              \", Vrez2, \"|\", lrez2, \"|\", drez2)\n",
    "\n",
    "drez3 = ufloat(3.2, 0.2)\n",
    "lrez3 = ufloat(8.1, 0.5)\n",
    "Vrez3 = np.pi * lrez3 * drez3**2 / 4000\n",
    "print(\"              \", Vrez3, \"|\", lrez3, \"|\", drez3)\n",
    "\n",
    "drez4 = ufloat(4.0, 0.2)\n",
    "lrez4 = ufloat(12.9, 0.5)\n",
    "Vrez4 = np.pi * lrez4 * drez4**2 / 4000\n",
    "print(\"              \", Vrez4, \"|\", lrez4, \"|\", drez4)\n",
    "\n",
    "VRez = (Vrez1 + Vrez2 + Vrez3 + Vrez4)\n",
    "print(\"V-Rezipient = \", VRez)\n",
    "print(\"--------------------\")\n",
    "\n",
    "\n",
    "\n",
    "# Schlauch für beide\n",
    "dS = ufloat(3.9, 0.5)\n",
    "lS = ufloat(39, 0.5)\n",
    "VS = np.pi * lS * dS**2 / 4000\n",
    "print(\"V-Schlauch = \", VS, \"|\", lS, \"|\", dS)\n",
    "print(\"--------------------\")\n",
    "\n",
    "\n",
    "# Nadelventil\n",
    "dnadel = ufloat(1.0, 0.5)\n",
    "lnadel = ufloat(2.5, 0.5)\n",
    "Vnadel = np.pi * lnadel * dnadel**2 / 4000\n",
    "print(\"V-nadel =\", Vnadel, \"|\", lnadel, \"|\", dnadel)\n",
    "print(\"--------------------\")\n",
    "\n",
    "# Kugelventil\n",
    "dkugel = ufloat(1.6, 0.5)\n",
    "lkugel = ufloat(7.4, 0.5)\n",
    "Vkugel = np.pi * lkugel * dkugel**2 / 4000\n",
    "print(\"V-kugel =\", Vkugel, \"|\", lkugel, \"|\", dkugel)\n",
    "print(\"--------------------\")\n",
    "\n",
    "# T-Stück für das Nadelventil\n",
    "dnadelT1 = ufloat(4, 0.2)\n",
    "lnadelT1 = ufloat(10, 0.2)\n",
    "VnadelT1 = np.pi * lnadelT1 * dnadelT1**2 / 4000\n",
    "print(\"          \", VnadelT1, \"|\", lnadelT1, \"|\", dnadelT1)\n",
    "\n",
    "dnadelT2 = ufloat(1, 0.2)\n",
    "lnadelT2 = ufloat(2.4, 0.5)\n",
    "VnadelT2 = np.pi * lnadelT2* dnadelT2**2 / 4000\n",
    "print(\"          \", VnadelT2, \"|\", lnadelT2, \"|\", dnadelT2)\n",
    "\n",
    "VnadelT = (VnadelT1 + VnadelT2)\n",
    "print(\"T1-V-nadelT =\", VnadelT)\n",
    "print(\"--------------------\")\n",
    "VNadel = Vkugel + Vnadel + VnadelT\n",
    "\n",
    "\n",
    "# T-Stück (von der Turbopumpe) für beide\n",
    "dturbo1 = ufloat(4, 0.5)\n",
    "lturbo1 = ufloat(16, 0.5)\n",
    "Vturbo1 = np.pi * lturbo1 * dturbo1**2 / 4000\n",
    "print(\"          \", Vturbo1, \"|\", lturbo1, \"|\", dturbo1)\n",
    "\n",
    "dturbo2 = ufloat(3.9, 0.5)\n",
    "lturbo2 = ufloat(4.5, 0.5)\n",
    "Vturbo2 = np.pi * lturbo2 * dturbo2**2 / 4000\n",
    "print(\"          \", Vturbo2, \"|\", lturbo2, \"|\", dturbo2)\n",
    "\n",
    "VTurbo = (Vturbo1 + Vturbo2)\n",
    "print(\"T2-V-Turbo = \", VTurbo)\n",
    "print(\"--------------------\")\n",
    "\n",
    "\n",
    "# T-Stück (pirani) nur für Drehschieberpumpe\n",
    "dpirani1 = ufloat(1.3, 0.2)\n",
    "lpirani1 = ufloat(8, 0.2)\n",
    "Vpirani1 = np.pi * lpirani1 * dpirani1**2 / 4000\n",
    "print(\"           \", Vpirani1, \"|\", lpirani1, \"|\", dpirani1)\n",
    "\n",
    "dpirani2 = ufloat(1.2, 0.2)\n",
    "lpirani2 = ufloat(3.3, 0.5)\n",
    "Vpirani2 = np.pi * lpirani2 * dpirani2**2 / 4000\n",
    "print(\"           \", Vpirani2, \"|\", lpirani2, \"|\", dpirani2)\n",
    "\n",
    "VPirani = (Vpirani1 + Vpirani2)\n",
    "print(\"T3-V-Pirani = \", VPirani)\n",
    "print(\"--------------------\")\n",
    "\n",
    "\n",
    "# T-Stück (anschluss) nur für Drehschieberpumpe\n",
    "dan1 = ufloat(4, 0.2)\n",
    "lan1 = ufloat(13, 0.2)\n",
    "Van1 = np.pi * lan1 * dan1**2 / 4000\n",
    "print(\"           \", Van1, \"|\", lan1, \"|\", dan1)\n",
    "\n",
    "dan2 = ufloat(1.6, 0.2)\n",
    "lan2 = ufloat(2.5, 0.5)\n",
    "Van2 = np.pi * lan2 * dan2**2 / 4000\n",
    "print(\"           \", Van2, \"|\", lan2, \"|\", dan2)\n",
    "\n",
    "VAn = (Van1 + Van2)\n",
    "print(\"T4-V-Anschluss = \", VAn)\n",
    "print(\"--------------------\")\n",
    "\n",
    "\n",
    "# Gesamtvolumen in l für die Drehschieberpumpe\n",
    "VD = VRez + VS + VNadel + VTurbo + VPirani + VAn\n",
    "print(\"VD = \", VD)\n",
    "\n",
    "VT = VRez + VS + VNadel + VTurbo\n",
    "print(\"VT = \", VT)"
   ]
  },
  {
   "cell_type": "markdown",
   "metadata": {},
   "source": [
    "## Daten für die Drehschieberpumpe"
   ]
  },
  {
   "cell_type": "code",
   "execution_count": 3,
   "metadata": {
    "ExecuteTime": {
     "end_time": "2017-06-10T09:29:28.741101",
     "start_time": "2017-06-10T09:29:28.718540"
    },
    "collapsed": true
   },
   "outputs": [],
   "source": [
    "VD = ufloat(10.2, 0.8)\n",
    "\n",
    "# Anfangsdruck p0 = 1013 mbar\n",
    "p0D = ufloat(1013, 202.6)\n",
    "\n",
    "# Enddruck pe = 0.02 mbar\n",
    "peD = ufloat(0.02, 0.004)\n",
    "\n",
    "# Daten für die p(t)-Kurve der Drehschieberpumpe\n",
    "p_D, t_1D, t_2D, t_3D, t_4D, t_5D = np.genfromtxt('data/p(t)-Kurve-Drehschieberpumpe.txt', unpack=True)\n",
    "\n",
    "# Daten für die Leckratenmessung der Drehschieberpumpe\n",
    "# Anfangsdruck p_g = 0.1 mbar\n",
    "p_gD1 = 0.1\n",
    "pD1, t1D1, t2D1, t3D1 = np.genfromtxt('data/Leckratenmessung-0.1mbar-Drehschieberpumpe.txt', unpack=True)\n",
    "\n",
    "# Anfangsdruck p_g = 0.4 mbar\n",
    "p_gD2 = 0.4\n",
    "pD2, t1D2, t2D2, t3D2 = np.genfromtxt('data/Leckratenmessung-0.4mbar-Drehschieberpumpe.txt', unpack=True)\n",
    "\n",
    "# Anfangsdruck p_g = 0.6 mbar\n",
    "p_gD3 = 0.6\n",
    "pD3, t1D3, t2D3, t3D3 = np.genfromtxt('data/Leckratenmessung-0.6mbar-Drehschieberpumpe.txt', unpack=True)\n",
    "\n",
    "# Anfangsdruck p_g = 0.8 mbar\n",
    "p_gD4 = 0.8\n",
    "pD4, t1D4, t2D4, t3D4 = np.genfromtxt('data/Leckratenmessung-0.8mbar-Drehschieberpumpe.txt', unpack=True)\n",
    "\n",
    "# Anfangsdruck p_g = 1.0 mbar\n",
    "p_gD5 = 1.0\n",
    "pD5, t1D5, t2D5, t3D5 = np.genfromtxt('data/Leckratenmessung-1.0mbar-Drehschieberpumpe.txt', unpack=True)\n"
   ]
  },
  {
   "cell_type": "markdown",
   "metadata": {
    "heading_collapsed": true
   },
   "source": [
    "## Daten für die Turbopumpe"
   ]
  },
  {
   "cell_type": "code",
   "execution_count": 4,
   "metadata": {
    "ExecuteTime": {
     "end_time": "2017-06-10T09:29:30.861564",
     "start_time": "2017-06-10T09:29:30.839031"
    },
    "collapsed": false,
    "hidden": true
   },
   "outputs": [],
   "source": [
    "VT = ufloat(10.0, 0.8)\n",
    "\n",
    "# Anfangsdruck p0 = 5 * 10^-3 mbar\n",
    "p0T = ufloat(5 * 10**(-3), 5 * 10**(-4))\n",
    "\n",
    "# Enddruck pe = 2 * 10^-5 mbar\n",
    "peT = ufloat(1.9 * 10**(-5), 1.9 * 10**(-6))\n",
    "\n",
    "# Daten für die p(t)-Kurve der Drehschieberpumpe\n",
    "p_T, t_1T, t_2T, t_3T, t_4T, t_5T, t_6T = np.genfromtxt('data/p(t)-Kurve-Turbopumpe.txt', unpack=True)\n",
    "p_T *= 10**(-4)\n",
    "\n",
    "# Daten für die Leckratenmessung der Drehschieberpumpe\n",
    "# Anfangsdruck p_g = 5 * 10^-5 mbar\n",
    "p_gT1 = 5 * 10**(-5)\n",
    "pT1, t1T1, t2T1, t3T1 = np.genfromtxt('data/Leckratenmessung-5mbar-Turbopumpe.txt', unpack=True)\n",
    "pT1 *= 10**(-4)\n",
    "\n",
    "# Anfangsdruck p_g = 10 * 10^-5 mbar\n",
    "p_gT2 = 10 * 10**(-5)\n",
    "pT2, t1T2, t2T2, t3T2 = np.genfromtxt('data/Leckratenmessung-10mbar-Turbopumpe.txt', unpack=True)\n",
    "pT2 *= 10**(-4)\n",
    "\n",
    "# Anfangsdruck p_g = 15 * 10^-5 mbar\n",
    "p_gT3 = 15 * 10**(-5)\n",
    "pT3, t1T3, t2T3, t3T3 = np.genfromtxt('data/Leckratenmessung-15mbar-Turbopumpe.txt', unpack=True)\n",
    "pT3 *= 10**(-4)\n",
    "\n",
    "# Anfangsdruck p_g = 20 * 10^-5 mbar\n",
    "p_gT4 = 20 * 10**(-5)\n",
    "pT4, t1T4, t2T4, t3T4 = np.genfromtxt('data/Leckratenmessung-20mbar-Turbopumpe.txt', unpack=True)\n",
    "pT4 *= 10**(-4)"
   ]
  },
  {
   "cell_type": "markdown",
   "metadata": {},
   "source": [
    "# Funktionen"
   ]
  },
  {
   "cell_type": "code",
   "execution_count": 5,
   "metadata": {
    "ExecuteTime": {
     "end_time": "2017-06-10T09:29:32.470478",
     "start_time": "2017-06-10T09:29:32.461307"
    },
    "collapsed": false
   },
   "outputs": [],
   "source": [
    "def f(x, a, b):\n",
    "    return a * x + b\n",
    "\n",
    "def deltaS(V, m, deltam):\n",
    "    return np.sqrt( (m*V.s)**2 + (V.n*deltam)**2 )\n",
    "\n",
    "import collections\n",
    "def sigNum(num, sig_figs=3):\n",
    "    numSig = num\n",
    "    if(type(numSig) in (collections.Sequence, np.ndarray)):\n",
    "        for i in range(len(numSig)):\n",
    "            if(numSig[i] != 0):\n",
    "                numSig[i] = round(numSig[i], -int(np.floor(np.log10(abs(numSig[i]))) - (sig_figs - 1)))\n",
    "            else:\n",
    "                numSig[i] = 0\n",
    "        return numSig\n",
    "    else:\n",
    "        return round(numSig, -int(np.floor(np.log10(abs(numSig))) - (sig_figs - 1)))\n"
   ]
  },
  {
   "cell_type": "markdown",
   "metadata": {},
   "source": [
    "## Funktion zur Bestimmung des Saugvermögens S aus der Leckrate"
   ]
  },
  {
   "cell_type": "code",
   "execution_count": 23,
   "metadata": {
    "ExecuteTime": {
     "end_time": "2017-06-10T09:42:24.434423",
     "start_time": "2017-06-10T09:42:24.401315"
    },
    "collapsed": false
   },
   "outputs": [],
   "source": [
    "def Leckrate(p, p_g, err, t1, t2, t3, V, name):\n",
    "    n = len(p)\n",
    "    terr = np.zeros(n)\n",
    "        \n",
    "    # Mittelwert und Fehler der Zeit\n",
    "    t = (t1 + t2 + t3) / 3\n",
    "    for i in range(n):\n",
    "        terr[i] = stats.sem([t1[i], t2[i], t3[i]])\n",
    "    t = unp.uarray(t, terr)\n",
    "    tn = unp.nominal_values(t)\n",
    "    ts = unp.std_devs(t)\n",
    "    \n",
    "    # Fehler vom Druck\n",
    "    p_g = ufloat(p_g, p_g*err)\n",
    "    p = unp.uarray(p, p*err)\n",
    "    pn = unp.nominal_values(p)\n",
    "    ps = unp.std_devs(p)\n",
    "    \n",
    "    # lineare Regression\n",
    "    params, covariance = curve_fit(f, tn, pn)\n",
    "    errors = np.sqrt(np.diag(covariance))\n",
    "    \n",
    "    # plottet das ganze\n",
    "    x = np.linspace(tn[0]-20, tn[-1]+20, 20)\n",
    "    plt.errorbar(tn, pn, xerr=ts, yerr=ps, c='blue', fmt='o', label='Messdaten')\n",
    "    plt.plot(x, f(x, *params), c='red', label='lineare Regression')\n",
    "    plt.xlabel(r'$t$ / s')\n",
    "    plt.ylabel(r'$p$ / mbar')\n",
    "    plt.xlim(tn[0]-20, tn[-1]+20)\n",
    "    plt.legend(loc='best')\n",
    "    plt.grid()\n",
    "    plt.tight_layout()\n",
    "    plt.savefig(\"pictures/Leck-\"+name+\".pdf\")\n",
    "    plt.close()\n",
    "    \n",
    "    # Berechnung des Saugvermögens aus der Steigung\n",
    "    S = V.n * params[0] / p_g.n\n",
    "    deltaS = np.sqrt( (params[0]/p_g.n)**2*(V.s)**2 + ((V.n*params[0])/(p_g.n)**2)**2*(p_g.s)**2 + (V.n/p_g.n)**2*(errors[0])**2 )\n",
    "    S = ufloat(S, deltaS)\n",
    "    \n",
    "    print(\"Druck p:\")\n",
    "    for i in range(n):\n",
    "        print(\"{:.2ue}\".format(p[i]))\n",
    "    print(\"Zeit t:\")\n",
    "    for i in range(n):\n",
    "        print(\"{:.2ue}\".format(t[i]))\n",
    "    print(\"Parameter a und b =\", sigNum(params), \" +- \", sigNum(errors))\n",
    "    print(\"Saugvermögen S[l/s] = \", S)\n",
    "    print(\" \")\n",
    "    \n",
    "    return p, S"
   ]
  },
  {
   "cell_type": "markdown",
   "metadata": {
    "heading_collapsed": true
   },
   "source": [
    "## Funktion zur Bestimmung des Saugvermögens S aus der p(t)-Kurve für die Drehschieberpumpe"
   ]
  },
  {
   "cell_type": "code",
   "execution_count": 7,
   "metadata": {
    "ExecuteTime": {
     "end_time": "2017-06-10T09:29:36.064281",
     "start_time": "2017-06-10T09:29:35.919397"
    },
    "collapsed": false,
    "hidden": true
   },
   "outputs": [],
   "source": [
    "def ptKurveDreh(p, p0, pe, t1, t2, t3, t4, t5, V, err=0.2):\n",
    "    n = len(p)\n",
    "    t = np.zeros(n)\n",
    "    terr = np.zeros(n)\n",
    "\n",
    "    # Mittelwert und Fehler der Zeit\n",
    "    for i in range(n):\n",
    "        t[i] = (t1[i] + t2[i] + t3[i] + t4[i] + t5[i]) / 5\n",
    "        terr[i] = stats.sem([t1[i], t2[i], t3[i], t4[i], t5[i]])\n",
    "    print(\"t = \", t)\n",
    "    print(\"terr = \", terr)\n",
    "\n",
    "    # Fehler vom Druck\n",
    "    perr = p * err\n",
    "    \n",
    "    # y-Achse\n",
    "    logP = np.log( (p-pe.n) / (p0.n-pe.n) )\n",
    "    print(\"y-Achse des Plottes =\", logP)\n",
    "    \n",
    "    # Fehler von logP\n",
    "    deltalogP = np.sqrt( (perr / (pe.n-p))**2 + (p0.s / (p0.n-pe.n))**2 + (((p0.n-p)*pe.s) / ((pe.n-p0.n)*(pe.n-p)))**2 ) \n",
    "    print(\"Fehler der y-Achse =\", deltalogP)\n",
    "    \n",
    "    # Bereiche bestimmen und lineare Regression\n",
    "    # Bereiche\n",
    "    Bereiche = np.array([3, 9, 14, 18])\n",
    "    \n",
    "    t_1 = t[0:Bereiche[0]]\n",
    "    terr_1 = terr[0:Bereiche[0]]\n",
    "    perr_1 = deltalogP[0:Bereiche[0]]\n",
    "    logP_1 = logP[0:Bereiche[0]]\n",
    "    params_1, covariance_1 = curve_fit(f, t_1, logP_1)\n",
    "    errors_1 = np.sqrt(np.diag(covariance_1))\n",
    "    t1 = np.linspace(t_1[0]-10, t_1[-1]+10)\n",
    "    print(\"Parameter a und b =\", params_1, \"+-\", errors_1)\n",
    "    \n",
    "    t_2 = t[Bereiche[0]:Bereiche[1]]\n",
    "    terr_2 = terr[Bereiche[0]:Bereiche[1]]\n",
    "    perr_2 = deltalogP[Bereiche[0]:Bereiche[1]]\n",
    "    logP_2 = logP[Bereiche[0]:Bereiche[1]]\n",
    "    params_2, covariance_2 = curve_fit(f, t_2, logP_2)\n",
    "    errors_2 = np.sqrt(np.diag(covariance_2))\n",
    "    t2 = np.linspace(t_2[0]-10, t_2[-1]+10)\n",
    "    print(\"Parameter a und b =\", params_2, \"+-\", errors_2)\n",
    "    \n",
    "    t_3 = t[Bereiche[1]:Bereiche[2]]\n",
    "    terr_3 = terr[Bereiche[1]:Bereiche[2]]\n",
    "    perr_3 = deltalogP[Bereiche[1]:Bereiche[2]]\n",
    "    logP_3 = logP[Bereiche[1]:Bereiche[2]]\n",
    "    params_3, covariance_3 = curve_fit(f, t_3, logP_3)\n",
    "    errors_3 = np.sqrt(np.diag(covariance_3))\n",
    "    t3 = np.linspace(t_3[0]-10, t_3[-1]+10)\n",
    "    print(\"Parameter a und b =\", params_3, \"+-\", errors_3)\n",
    "    \n",
    "    t_4 = t[Bereiche[2]:Bereiche[3]]\n",
    "    terr_4 = terr[Bereiche[2]:Bereiche[3]]\n",
    "    perr_4 = deltalogP[Bereiche[2]:Bereiche[3]]\n",
    "    logP_4 = logP[Bereiche[2]:Bereiche[3]]\n",
    "    params_4, covariance_4 = curve_fit(f, t_4, logP_4)\n",
    "    errors_4 = np.sqrt(np.diag(covariance_4))\n",
    "    t4 = np.linspace(t_4[0]-10, t_4[-1]+10)\n",
    "    print(\"Parameter a und b =\", params_4, \"+-\", errors_4)\n",
    "    \n",
    "    # Saugvermögen\n",
    "    deltaS1 = deltaS(V, params_1[0], errors_1[0])\n",
    "    S1 = ufloat(-params_1[0]*V.n, deltaS1)\n",
    "    print(\"S1 =\", S1)\n",
    "    deltaS2 = deltaS(V, params_2[0], errors_2[0])\n",
    "    S2 = ufloat(-params_2[0]*V.n, deltaS2)\n",
    "    print(\"S2 =\", S2)\n",
    "    deltaS3 = deltaS(V, params_3[0], errors_3[0])\n",
    "    S3 = ufloat(-params_3[0]*V.n, deltaS3)\n",
    "    print(\"S3 =\", S3)\n",
    "    deltaS4 = deltaS(V, params_4[0], errors_4[0])\n",
    "    S4 = ufloat(-params_4[0]*V.n, deltaS4)\n",
    "    print(\"S4 =\", S4)\n",
    "    \n",
    "    \n",
    "    # plottet alles\n",
    "    plt.errorbar(t_1, logP_1, xerr=terr_1, yerr=perr_1, c='green', fmt='.', label='Messwerte Gerade 1')\n",
    "    plt.plot(t1, f(t1, *params_1), c='green', label='lineare Regression Gerade 1')\n",
    "    \n",
    "    plt.errorbar(t_2, logP_2, xerr=terr_2, yerr=perr_2, c='blue', fmt='.', label='Messwerte Gerade 2')\n",
    "    plt.plot(t2, f(t2, *params_2), c='blue', label='lineare Regression Gerade 2')\n",
    "    \n",
    "    plt.errorbar(t_3, logP_3, xerr=terr_3, yerr=perr_3, c='yellow', fmt='.', label='Messwerte Gerade 3')\n",
    "    plt.plot(t3, f(t3, *params_3), c='yellow', label='lineare Regression Gerade 3')\n",
    "    \n",
    "    plt.errorbar(t_4, logP_4, xerr=terr_4, yerr=perr_4, c='red', fmt='.', label='Messwerte Gerade 4')\n",
    "    plt.plot(t4, f(t4, *params_4), c='red', label='lineare Regression Gerade 4')\n",
    "    \n",
    "    plt.xlabel(r'$t$ / s')\n",
    "    plt.ylabel(r'$\\ln\\left(\\frac{p-p_e}{p_0-p_e}\\right)$')\n",
    "    plt.xlim(t[0]-20, t[-1]+20)\n",
    "    plt.legend(loc='lower center', prop={'size':10}, bbox_to_anchor=(0.5, -0.7))\n",
    "    plt.grid()\n",
    "    plt.tight_layout()\n",
    "    plt.savefig(\"pictures/pt-Kurve-Drehschieberpumpe.pdf\", bbox_inches='tight')\n",
    "    \n",
    "    \n",
    "    p = unp.uarray(p, perr)\n",
    "    S = np.array([S1, S2, S3, S4])\n",
    "        \n",
    "    return p, S, Bereiche"
   ]
  },
  {
   "cell_type": "markdown",
   "metadata": {
    "heading_collapsed": true
   },
   "source": [
    "## Funktion zur Bestimmung des Saugvermögens S aus der p(t)-Kurve für die Turbopumpe"
   ]
  },
  {
   "cell_type": "code",
   "execution_count": 8,
   "metadata": {
    "ExecuteTime": {
     "end_time": "2017-06-10T09:29:37.484947",
     "start_time": "2017-06-10T09:29:37.396126"
    },
    "collapsed": false,
    "hidden": true
   },
   "outputs": [],
   "source": [
    "def ptKurveTurbo(p, p0, pe, t1, t2, t3, t4, t5, t6, V, err=0.1):\n",
    "    n = len(p)\n",
    "    t = np.zeros(n)\n",
    "    terr = np.zeros(n)\n",
    "\n",
    "    # Mittelwert und Fehler der Zeit\n",
    "    for i in range(n):\n",
    "        t[i] = (t1[i] + t2[i] + t3[i] + t4[i] + t5[i] + t6[i]) / 6\n",
    "        terr[i] = stats.sem([t1[i], t2[i], t3[i], t4[i], t5[i], t6[i]])\n",
    "    print(\"t = \", t)\n",
    "    print(\"terr = \", terr)\n",
    "    \n",
    "    # Fehler vom Druck\n",
    "    perr = p * err\n",
    "    \n",
    "    # y-Achse\n",
    "    logP = np.log( (p-pe.n) / (p0.n-pe.n) )\n",
    "    print(\"y-Achse des Plottes =\", logP)\n",
    "    \n",
    "    # Fehler von logP\n",
    "    deltalogP = np.sqrt( (perr / (pe.n-p))**2 \n",
    "                        + (p0.s / (p0.n-pe.n))**2 \n",
    "                        + (((p0.n-p)*pe.s) / ((pe.n-p0.n)*(pe.n-p)))**2 ) \n",
    "    print(\"Fehler der y-Achse =\", deltalogP)\n",
    "    \n",
    "    # Bereiche bestimmen und lineare Regression\n",
    "    t_1 = t[0:9]\n",
    "    terr_1 = terr[0:9]\n",
    "    perr_1 = deltalogP[0:9]\n",
    "    logP_1 = logP[0:9]\n",
    "    params_1, covariance_1 = curve_fit(f, t_1, logP_1)\n",
    "    errors_1 = np.sqrt(np.diag(covariance_1))\n",
    "    t1 = np.linspace(t_1[0]-2, t_1[-1]+2)\n",
    "    print(\"Parameter a und b =\", params_1, \"+-\", errors_1)\n",
    "    \n",
    "    t_2 = t[9:16]\n",
    "    terr_2 = terr[9:16]\n",
    "    perr_2 = deltalogP[9:16]\n",
    "    logP_2 = logP[9:16]\n",
    "    params_2, covariance_2 = curve_fit(f, t_2, logP_2)\n",
    "    errors_2 = np.sqrt(np.diag(covariance_2))\n",
    "    t2 = np.linspace(t_2[0]-2, t_2[-1]+2)\n",
    "    print(\"Parameter a und b =\", params_2, \"+-\", errors_2)\n",
    "    \n",
    "    t_3 = t[16:19]\n",
    "    terr_3 = terr[16:19]\n",
    "    perr_3 = deltalogP[16:19]\n",
    "    logP_3 = logP[16:19]\n",
    "    params_3, covariance_3 = curve_fit(f, t_3, logP_3)\n",
    "    errors_3 = np.sqrt(np.diag(covariance_3))\n",
    "    t3 = np.linspace(t_3[0]-2, t_3[-1]+2)\n",
    "    print(\"Parameter a und b =\", params_3, \"+-\", errors_3)\n",
    "    \n",
    "    # Saugvermögen\n",
    "    deltaS1 = deltaS(V, params_1[0], errors_1[0])\n",
    "    S1 = ufloat(-params_1[0]*V.n, deltaS1)\n",
    "    print(\"S1 =\", S1)\n",
    "    deltaS2 = deltaS(V, params_2[0], errors_2[0])\n",
    "    S2 = ufloat(-params_2[0]*V.n, deltaS2)\n",
    "    print(\"S2 =\", S2)\n",
    "    deltaS3 = deltaS(V, params_3[0], errors_3[0])\n",
    "    S3 = ufloat(-params_3[0]*V.n, deltaS3)\n",
    "    print(\"S3 =\", S3)\n",
    "    \n",
    "    # plottet alles\n",
    "    plt.plot(t, logP, 'y.')\n",
    "    plt.errorbar(t_1, logP_1, xerr=terr_1, yerr=perr_1, c='green', fmt='.', label='Messwerte Gerade 1')\n",
    "    plt.plot(t1, f(t1, *params_1), c='green', label='lineare Regression Gerade 1')\n",
    "    \n",
    "    plt.errorbar(t_2, logP_2, xerr=terr_2, yerr=perr_2, c='blue', fmt='.', label='Messwerte Gerade 2')\n",
    "    plt.plot(t2, f(t2, *params_2), c='blue', label='lineare Regression Gerade 2')\n",
    "    \n",
    "    plt.errorbar(t_3, logP_3, xerr=terr_3, yerr=perr_3, c='red', fmt='.', label='Messwerte Gerade 3')\n",
    "    plt.plot(t3, f(t3, *params_3), c='red', label='lineare Regression Gerade 3')\n",
    "    \n",
    "    plt.xlabel(r'$t$ / s')\n",
    "    plt.ylabel(r'$\\ln\\left(\\frac{p-p_\\text{E}}{p_0-p_\\text{E}}\\right)$')\n",
    "    plt.xlim(t[0]-2, t[-1]+2)\n",
    "    plt.legend(loc='lower center', prop={'size':10} , bbox_to_anchor=(0.5, -0.6))\n",
    "    plt.grid()\n",
    "    plt.tight_layout()\n",
    "    plt.savefig(\"pictures/pt-Kurve-Turbopumpe.pdf\", bbox_inches='tight')"
   ]
  },
  {
   "cell_type": "markdown",
   "metadata": {},
   "source": [
    "## pS-Diagramm"
   ]
  },
  {
   "cell_type": "code",
   "execution_count": 20,
   "metadata": {
    "ExecuteTime": {
     "end_time": "2017-06-10T09:39:28.774967",
     "start_time": "2017-06-10T09:39:28.758249"
    },
    "collapsed": false
   },
   "outputs": [],
   "source": [
    "def pS(p_g, SLeck, pKurve, SKurve, Bereiche, name='Dreh'):\n",
    "    if (name == 'Dreh'):\n",
    "        p_err = 0.2\n",
    "    else:\n",
    "        p_err = 0.1\n",
    "    print(p_err)\n",
    "    \n",
    "    p_g = unp.uarray(p_g, p_g * p_err)\n",
    "    \n",
    "    print(p_g)\n",
    "    print(SLeck)\n",
    "    \n",
    "    plt.errorbar(unp.nominal_values(p_g), unp.nominal_values(SLeck), xerr=unp.std_devs(p_g), yerr=unp.std_devs(SLeck))\n",
    "    \n",
    "    \n",
    "    \n",
    "    \n",
    "    \n",
    "   \n",
    "    \n",
    "    plt.xlabel(r'$p$ / mbar')\n",
    "    plt.ylabel(r'$S$ / l/s')\n",
    "    plt.legend(loc='best')\n",
    "    # plt.legend(loc='lower center', prop={'size':10} , bbox_to_anchor=(0.5, -0.6))\n",
    "    plt.grid()\n",
    "    plt.tight_layout()\n",
    "    #plt.savefig(\"pictures/pSDiagramm.pdf\", bbox_inches='tight')"
   ]
  },
  {
   "cell_type": "code",
   "execution_count": null,
   "metadata": {
    "collapsed": true
   },
   "outputs": [],
   "source": [
    " n = len(pLeck[0])\n",
    "    cmap = plt.get_cmap('jet_r')\n",
    "    \n",
    "    for i in range(n):\n",
    "        SL = np.ones(n) * unp.nominal_values(SLeck[i])\n",
    "        SerrL = np.ones(n) * unp.std_devs(SLeck[i])\n",
    "        pL = unp.nominal_values(pLeck[i])\n",
    "        plt.plot(pL, SL, ls='-', color=cmap(i/n), lw=1.5, label='%s data' % i)\n",
    "        plt.plot(pL, SL+SerrL, pL, SL-SerrL, ls='--', color=cmap(i/n), lw=1.5)\n",
    "    \n",
    "    pK = unp.nominal_values(pKurve)\n",
    "    SK = unp.nominal_values(SKurve)\n",
    "    SerrK = unp.std_devs(SKurve)\n",
    "    "
   ]
  },
  {
   "cell_type": "code",
   "execution_count": 26,
   "metadata": {
    "ExecuteTime": {
     "end_time": "2017-06-10T09:42:50.141063",
     "start_time": "2017-06-10T09:42:50.129369"
    },
    "collapsed": false
   },
   "outputs": [
    {
     "name": "stdout",
     "output_type": "stream",
     "text": [
      "0.1\n",
      "[0.1+/-0.010000000000000002 0.4+/-0.04000000000000001 0.6+/-0.06\n",
      " 0.8+/-0.08000000000000002 1.0+/-0.1]\n",
      "(array(0.4785437257642906+/-0.10392870169657492, dtype=object), array(0.9427544020883584+/-0.2055302813210571, dtype=object), array(1.1442739488061557+/-0.24756010900725195, dtype=object), array(1.2164786617384193+/-0.26237477884025684, dtype=object), array(1.31783924139873+/-0.2839824599880393, dtype=object))\n"
     ]
    },
    {
     "ename": "ValueError",
     "evalue": "setting an array element with a sequence.",
     "output_type": "error",
     "traceback": [
      "\u001b[0;31m---------------------------------------------------------------------------\u001b[0m",
      "\u001b[0;31mValueError\u001b[0m                                Traceback (most recent call last)",
      "\u001b[0;32m<ipython-input-26-b511a0b3f237>\u001b[0m in \u001b[0;36m<module>\u001b[0;34m()\u001b[0m\n\u001b[1;32m      1\u001b[0m \u001b[0mp_gD\u001b[0m \u001b[0;34m=\u001b[0m \u001b[0mnp\u001b[0m\u001b[0;34m.\u001b[0m\u001b[0marray\u001b[0m\u001b[0;34m(\u001b[0m\u001b[0;34m[\u001b[0m\u001b[0mp_gD1\u001b[0m\u001b[0;34m,\u001b[0m \u001b[0mp_gD2\u001b[0m\u001b[0;34m,\u001b[0m \u001b[0mp_gD3\u001b[0m\u001b[0;34m,\u001b[0m \u001b[0mp_gD4\u001b[0m\u001b[0;34m,\u001b[0m \u001b[0mp_gD5\u001b[0m\u001b[0;34m]\u001b[0m\u001b[0;34m)\u001b[0m\u001b[0;34m\u001b[0m\u001b[0m\n\u001b[1;32m      2\u001b[0m \u001b[0mp_gT\u001b[0m \u001b[0;34m=\u001b[0m \u001b[0mnp\u001b[0m\u001b[0;34m.\u001b[0m\u001b[0marray\u001b[0m\u001b[0;34m(\u001b[0m\u001b[0;34m[\u001b[0m\u001b[0mp_gT1\u001b[0m\u001b[0;34m,\u001b[0m \u001b[0mp_gT2\u001b[0m\u001b[0;34m,\u001b[0m \u001b[0mp_gT3\u001b[0m\u001b[0;34m,\u001b[0m \u001b[0mp_gT4\u001b[0m\u001b[0;34m]\u001b[0m\u001b[0;34m)\u001b[0m\u001b[0;34m\u001b[0m\u001b[0m\n\u001b[0;32m----> 3\u001b[0;31m \u001b[0mpS\u001b[0m\u001b[0;34m(\u001b[0m\u001b[0mp_gD\u001b[0m\u001b[0;34m,\u001b[0m \u001b[0mSDrehLeck\u001b[0m\u001b[0;34m,\u001b[0m \u001b[0mpDrehPt\u001b[0m\u001b[0;34m,\u001b[0m \u001b[0mSDrehPt\u001b[0m\u001b[0;34m,\u001b[0m \u001b[0mBereicheDrehPt\u001b[0m\u001b[0;34m,\u001b[0m \u001b[0;34m'Turbo'\u001b[0m\u001b[0;34m)\u001b[0m\u001b[0;34m\u001b[0m\u001b[0m\n\u001b[0m",
      "\u001b[0;32m<ipython-input-20-2c8a1c716dd8>\u001b[0m in \u001b[0;36mpS\u001b[0;34m(p_g, SLeck, pKurve, SKurve, Bereiche, name)\u001b[0m\n\u001b[1;32m     11\u001b[0m     \u001b[0mprint\u001b[0m\u001b[0;34m(\u001b[0m\u001b[0mSLeck\u001b[0m\u001b[0;34m)\u001b[0m\u001b[0;34m\u001b[0m\u001b[0m\n\u001b[1;32m     12\u001b[0m \u001b[0;34m\u001b[0m\u001b[0m\n\u001b[0;32m---> 13\u001b[0;31m     \u001b[0mplt\u001b[0m\u001b[0;34m.\u001b[0m\u001b[0merrorbar\u001b[0m\u001b[0;34m(\u001b[0m\u001b[0munp\u001b[0m\u001b[0;34m.\u001b[0m\u001b[0mnominal_values\u001b[0m\u001b[0;34m(\u001b[0m\u001b[0mp_g\u001b[0m\u001b[0;34m)\u001b[0m\u001b[0;34m,\u001b[0m \u001b[0munp\u001b[0m\u001b[0;34m.\u001b[0m\u001b[0mnominal_values\u001b[0m\u001b[0;34m(\u001b[0m\u001b[0mSLeck\u001b[0m\u001b[0;34m)\u001b[0m\u001b[0;34m,\u001b[0m \u001b[0mxerr\u001b[0m\u001b[0;34m=\u001b[0m\u001b[0munp\u001b[0m\u001b[0;34m.\u001b[0m\u001b[0mstd_devs\u001b[0m\u001b[0;34m(\u001b[0m\u001b[0mp_g\u001b[0m\u001b[0;34m)\u001b[0m\u001b[0;34m,\u001b[0m \u001b[0myerr\u001b[0m\u001b[0;34m=\u001b[0m\u001b[0munp\u001b[0m\u001b[0;34m.\u001b[0m\u001b[0mstd_devs\u001b[0m\u001b[0;34m(\u001b[0m\u001b[0mSLeck\u001b[0m\u001b[0;34m)\u001b[0m\u001b[0;34m)\u001b[0m\u001b[0;34m\u001b[0m\u001b[0m\n\u001b[0m\u001b[1;32m     14\u001b[0m \u001b[0;34m\u001b[0m\u001b[0m\n\u001b[1;32m     15\u001b[0m \u001b[0;34m\u001b[0m\u001b[0m\n",
      "\u001b[0;32m/home/philip/.local/anaconda3/lib/python3.5/site-packages/uncertainties/unumpy/core.py\u001b[0m in \u001b[0;36mnominal_values\u001b[0;34m(arr)\u001b[0m\n\u001b[1;32m     91\u001b[0m     \"\"\"\n\u001b[1;32m     92\u001b[0m \u001b[0;34m\u001b[0m\u001b[0m\n\u001b[0;32m---> 93\u001b[0;31m     \u001b[0;32mreturn\u001b[0m \u001b[0munumpy_to_numpy_matrix\u001b[0m\u001b[0;34m(\u001b[0m\u001b[0mto_nominal_values\u001b[0m\u001b[0;34m(\u001b[0m\u001b[0marr\u001b[0m\u001b[0;34m)\u001b[0m\u001b[0;34m)\u001b[0m\u001b[0;34m\u001b[0m\u001b[0m\n\u001b[0m\u001b[1;32m     94\u001b[0m \u001b[0;34m\u001b[0m\u001b[0m\n\u001b[1;32m     95\u001b[0m \u001b[0;32mdef\u001b[0m \u001b[0mstd_devs\u001b[0m\u001b[0;34m(\u001b[0m\u001b[0marr\u001b[0m\u001b[0;34m)\u001b[0m\u001b[0;34m:\u001b[0m\u001b[0;34m\u001b[0m\u001b[0m\n",
      "\u001b[0;32m/home/philip/.local/anaconda3/lib/python3.5/site-packages/numpy/lib/function_base.py\u001b[0m in \u001b[0;36m__call__\u001b[0;34m(self, *args, **kwargs)\u001b[0m\n\u001b[1;32m   2216\u001b[0m             \u001b[0mvargs\u001b[0m\u001b[0;34m.\u001b[0m\u001b[0mextend\u001b[0m\u001b[0;34m(\u001b[0m\u001b[0;34m[\u001b[0m\u001b[0mkwargs\u001b[0m\u001b[0;34m[\u001b[0m\u001b[0m_n\u001b[0m\u001b[0;34m]\u001b[0m \u001b[0;32mfor\u001b[0m \u001b[0m_n\u001b[0m \u001b[0;32min\u001b[0m \u001b[0mnames\u001b[0m\u001b[0;34m]\u001b[0m\u001b[0;34m)\u001b[0m\u001b[0;34m\u001b[0m\u001b[0m\n\u001b[1;32m   2217\u001b[0m \u001b[0;34m\u001b[0m\u001b[0m\n\u001b[0;32m-> 2218\u001b[0;31m         \u001b[0;32mreturn\u001b[0m \u001b[0mself\u001b[0m\u001b[0;34m.\u001b[0m\u001b[0m_vectorize_call\u001b[0m\u001b[0;34m(\u001b[0m\u001b[0mfunc\u001b[0m\u001b[0;34m=\u001b[0m\u001b[0mfunc\u001b[0m\u001b[0;34m,\u001b[0m \u001b[0margs\u001b[0m\u001b[0;34m=\u001b[0m\u001b[0mvargs\u001b[0m\u001b[0;34m)\u001b[0m\u001b[0;34m\u001b[0m\u001b[0m\n\u001b[0m\u001b[1;32m   2219\u001b[0m \u001b[0;34m\u001b[0m\u001b[0m\n\u001b[1;32m   2220\u001b[0m     \u001b[0;32mdef\u001b[0m \u001b[0m_get_ufunc_and_otypes\u001b[0m\u001b[0;34m(\u001b[0m\u001b[0mself\u001b[0m\u001b[0;34m,\u001b[0m \u001b[0mfunc\u001b[0m\u001b[0;34m,\u001b[0m \u001b[0margs\u001b[0m\u001b[0;34m)\u001b[0m\u001b[0;34m:\u001b[0m\u001b[0;34m\u001b[0m\u001b[0m\n",
      "\u001b[0;32m/home/philip/.local/anaconda3/lib/python3.5/site-packages/numpy/lib/function_base.py\u001b[0m in \u001b[0;36m_vectorize_call\u001b[0;34m(self, func, args)\u001b[0m\n\u001b[1;32m   2289\u001b[0m             \u001b[0;32mif\u001b[0m \u001b[0mufunc\u001b[0m\u001b[0;34m.\u001b[0m\u001b[0mnout\u001b[0m \u001b[0;34m==\u001b[0m \u001b[0;36m1\u001b[0m\u001b[0;34m:\u001b[0m\u001b[0;34m\u001b[0m\u001b[0m\n\u001b[1;32m   2290\u001b[0m                 _res = array(outputs,\n\u001b[0;32m-> 2291\u001b[0;31m                              copy=False, subok=True, dtype=otypes[0])\n\u001b[0m\u001b[1;32m   2292\u001b[0m             \u001b[0;32melse\u001b[0m\u001b[0;34m:\u001b[0m\u001b[0;34m\u001b[0m\u001b[0m\n\u001b[1;32m   2293\u001b[0m                 _res = tuple([array(_x, copy=False, subok=True, dtype=_t)\n",
      "\u001b[0;31mValueError\u001b[0m: setting an array element with a sequence."
     ]
    }
   ],
   "source": [
    "p_gD = np.array([p_gD1, p_gD2, p_gD3, p_gD4, p_gD5])\n",
    "p_gT = np.array([p_gT1, p_gT2, p_gT3, p_gT4])\n",
    "pS(p_gD, SDrehLeck, pDrehPt, SDrehPt, BereicheDrehPt, 'Dreh')"
   ]
  },
  {
   "cell_type": "markdown",
   "metadata": {
    "heading_collapsed": true
   },
   "source": [
    "# Bestimmung des Saugvermögens über die Leckrate"
   ]
  },
  {
   "cell_type": "markdown",
   "metadata": {
    "heading_collapsed": true,
    "hidden": true
   },
   "source": [
    "## Für die Drehschieberpumpe"
   ]
  },
  {
   "cell_type": "code",
   "execution_count": 24,
   "metadata": {
    "ExecuteTime": {
     "end_time": "2017-06-10T09:42:34.864822",
     "start_time": "2017-06-10T09:42:30.754605"
    },
    "collapsed": false,
    "hidden": true,
    "scrolled": false
   },
   "outputs": [
    {
     "name": "stdout",
     "output_type": "stream",
     "text": [
      "Druck p:\n",
      "(2.00+/-0.40)e-01\n",
      "(4.00+/-0.80)e-01\n",
      "(6.0+/-1.2)e-01\n",
      "(8.0+/-1.6)e-01\n",
      "(1.00+/-0.20)e+00\n",
      "Zeit t:\n",
      "(1.167+/-0.033)e+01\n",
      "(4.667+/-0.033)e+01\n",
      "(9.467+/-0.033)e+01\n",
      "(1.4100+/-0.0058)e+02\n",
      "(1.770+/-0.012)e+02\n",
      "Parameter a und b = [ 0.00469  0.158  ]  +-  [ 0.000149  0.0167  ]\n",
      "Saugvermögen S[l/s] =  0.48+/-0.10\n",
      " \n",
      "Druck p:\n",
      "(6.0+/-1.2)e-01\n",
      "(8.0+/-1.6)e-01\n",
      "(1.00+/-0.20)e+00\n",
      "(2.00+/-0.40)e+00\n",
      "(4.00+/-0.80)e+00\n",
      "Zeit t:\n",
      "(6.67+/-0.33)e+00\n",
      "(1.433+/-0.033)e+01\n",
      "(2.00+/-0)e+01\n",
      "(5.067+/-0.033)e+01\n",
      "(9.900+/-0.058)e+01\n",
      "Parameter a und b = [ 0.037  0.27 ]  +-  [ 0.00137  0.07   ]\n",
      "Saugvermögen S[l/s] =  0.94+/-0.21\n",
      " \n",
      "Druck p:\n",
      "(8.0+/-1.6)e-01\n",
      "(1.00+/-0.20)e+00\n",
      "(2.00+/-0.40)e+00\n",
      "(4.00+/-0.80)e+00\n",
      "(6.0+/-1.2)e+00\n",
      "Zeit t:\n",
      "(4.00+/-0)e+00\n",
      "(7.33+/-0.33)e+00\n",
      "(2.467+/-0.033)e+01\n",
      "(5.40+/-0.12)e+01\n",
      "(8.100+/-0.058)e+01\n",
      "Parameter a und b = [ 0.0673  0.458 ]  +-  [ 0.00172  0.0776 ]\n",
      "Saugvermögen S[l/s] =  1.14+/-0.25\n",
      " \n",
      "Druck p:\n",
      "(1.00+/-0.20)e+00\n",
      "(2.00+/-0.40)e+00\n",
      "(4.00+/-0.80)e+00\n",
      "(6.0+/-1.2)e+00\n",
      "(8.0+/-1.6)e+00\n",
      "Zeit t:\n",
      "(2.33+/-0.33)e+00\n",
      "(1.433+/-0.033)e+01\n",
      "(3.633+/-0.033)e+01\n",
      "(5.533+/-0.088)e+01\n",
      "(7.633+/-0.088)e+01\n",
      "Parameter a und b = [ 0.0954  0.676 ]  +-  [ 0.00183  0.0836 ]\n",
      "Saugvermögen S[l/s] =  1.22+/-0.26\n",
      " \n",
      "Druck p:\n",
      "(2.00+/-0.40)e+00\n",
      "(4.00+/-0.80)e+00\n",
      "(6.0+/-1.2)e+00\n",
      "(8.0+/-1.6)e+00\n",
      "(1.00+/-0.20)e+01\n",
      "Zeit t:\n",
      "(1.00+/-0)e+01\n",
      "(2.733+/-0.033)e+01\n",
      "(4.133+/-0.033)e+01\n",
      "(5.733+/-0.033)e+01\n",
      "(7.233+/-0.088)e+01\n",
      "Parameter a und b = [ 0.129  0.617]  +-  [ 0.00218  0.103  ]\n",
      "Saugvermögen S[l/s] =  1.32+/-0.28\n",
      " \n"
     ]
    }
   ],
   "source": [
    "pDrehLeck1, SDrehLeck1 = Leckrate(pD1, p_gD1, 0.2, t1D1, t2D1, t3D1, VD, \"0.1mbar-D\")\n",
    "pDrehLeck2, SDrehLeck2 = Leckrate(pD2, p_gD2, 0.2, t1D2, t2D2, t3D2, VD, \"0.4mbar-D\")\n",
    "pDrehLeck3, SDrehLeck3 = Leckrate(pD3, p_gD3, 0.2, t1D3, t2D3, t3D3, VD, \"0.6mbar-D\")\n",
    "pDrehLeck4, SDrehLeck4 = Leckrate(pD4, p_gD4, 0.2, t1D4, t2D4, t3D4, VD, \"0.8mbar-D\")\n",
    "pDrehLeck5, SDrehLeck5 = Leckrate(pD5, p_gD5, 0.2, t1D5, t2D5, t3D5, VD, \"1.0mbar-D\")"
   ]
  },
  {
   "cell_type": "code",
   "execution_count": 12,
   "metadata": {
    "ExecuteTime": {
     "end_time": "2017-06-10T09:29:46.838102",
     "start_time": "2017-06-10T09:29:46.835903"
    },
    "collapsed": false,
    "hidden": true
   },
   "outputs": [],
   "source": [
    "pDrehLeck = (pDrehLeck1, pDrehLeck2, pDrehLeck3, pDrehLeck4, pDrehLeck5)\n",
    "SDrehLeck = (SDrehLeck1, SDrehLeck2, SDrehLeck3, SDrehLeck4, SDrehLeck5)"
   ]
  },
  {
   "cell_type": "markdown",
   "metadata": {
    "heading_collapsed": true,
    "hidden": true
   },
   "source": [
    "## Für die Turbopumpe"
   ]
  },
  {
   "cell_type": "code",
   "execution_count": 25,
   "metadata": {
    "ExecuteTime": {
     "end_time": "2017-06-10T09:42:42.480970",
     "start_time": "2017-06-10T09:42:39.082489"
    },
    "collapsed": false,
    "hidden": true
   },
   "outputs": [
    {
     "name": "stdout",
     "output_type": "stream",
     "text": [
      "Druck p:\n",
      "(2.00+/-0.20)e-04\n",
      "(4.00+/-0.40)e-04\n",
      "(6.00+/-0.60)e-04\n",
      "(8.00+/-0.80)e-04\n",
      "(1.00+/-0.10)e-03\n",
      "(2.00+/-0.20)e-03\n",
      "(3.00+/-0.30)e-03\n",
      "(4.00+/-0.40)e-03\n",
      "(5.00+/-0.50)e-03\n",
      "Zeit t:\n",
      "(1.633+/-0.088)e+00\n",
      "(4.90+/-0.10)e+00\n",
      "(8.03+/-0.15)e+00\n",
      "(1.093+/-0.020)e+01\n",
      "(1.480+/-0.030)e+01\n",
      "(2.840+/-0.062)e+01\n",
      "(4.12+/-0.11)e+01\n",
      "(5.23+/-0.12)e+01\n",
      "(6.34+/-0.13)e+01\n",
      "Parameter a und b = [  7.71000000e-05  -4.44000000e-05]  +-  [  1.79000000e-06   5.88000000e-05]\n",
      "Saugvermögen S[l/s] =  15.4+/-2.0\n",
      " \n",
      "Druck p:\n",
      "(2.00+/-0.20)e-04\n",
      "(4.00+/-0.40)e-04\n",
      "(6.00+/-0.60)e-04\n",
      "(8.00+/-0.80)e-04\n",
      "(1.00+/-0.10)e-03\n",
      "(2.00+/-0.20)e-03\n",
      "(4.00+/-0.40)e-03\n",
      "(6.00+/-0.60)e-03\n",
      "(8.00+/-0.80)e-03\n",
      "Zeit t:\n",
      "(2.33+/-0.33)e-01\n",
      "(1.033+/-0.067)e+00\n",
      "(2.333+/-0.067)e+00\n",
      "(3.500+/-0.058)e+00\n",
      "(5.60+/-0.15)e+00\n",
      "(1.097+/-0.039)e+01\n",
      "(2.090+/-0.066)e+01\n",
      "(3.00+/-0.10)e+01\n",
      "(3.700+/-0.090)e+01\n",
      "Parameter a und b = [  2.05000000e-04   9.92000000e-06]  +-  [  6.48000000e-06   1.16000000e-04]\n",
      "Saugvermögen S[l/s] =  20.5+/-2.7\n",
      " \n",
      "Druck p:\n",
      "(4.00+/-0.40)e-04\n",
      "(6.00+/-0.60)e-04\n",
      "(8.00+/-0.80)e-04\n",
      "(1.00+/-0.10)e-03\n",
      "(2.00+/-0.20)e-03\n",
      "(4.00+/-0.40)e-03\n",
      "(6.00+/-0.60)e-03\n",
      "(8.00+/-0.80)e-03\n",
      "Zeit t:\n",
      "(3.00+/-0.58)e-01\n",
      "(1.033+/-0.033)e+00\n",
      "(1.867+/-0.033)e+00\n",
      "(3.367+/-0.033)e+00\n",
      "(7.233+/-0.067)e+00\n",
      "(1.4067+/-0.0033)e+01\n",
      "(2.02+/-0)e+01\n",
      "(2.540+/-0.012)e+01\n",
      "Parameter a und b = [ 0.000297  0.000124]  +-  [  9.97000000e-06   1.28000000e-04]\n",
      "Saugvermögen S[l/s] =  19.8+/-2.6\n",
      " \n",
      "Druck p:\n",
      "(4.00+/-0.40)e-04\n",
      "(6.00+/-0.60)e-04\n",
      "(8.00+/-0.80)e-04\n",
      "(1.00+/-0.10)e-03\n",
      "(2.00+/-0.20)e-03\n",
      "(4.00+/-0.40)e-03\n",
      "(6.00+/-0.60)e-03\n",
      "(8.00+/-0.80)e-03\n",
      "Zeit t:\n",
      "(3.33+/-0.33)e-01\n",
      "(5.67+/-0.33)e-01\n",
      "(1.167+/-0.033)e+00\n",
      "(2.433+/-0.067)e+00\n",
      "(5.167+/-0.033)e+00\n",
      "(1.0467+/-0.0033)e+01\n",
      "(1.5067+/-0.0033)e+01\n",
      "(1.897+/-0.013)e+01\n",
      "Parameter a und b = [ 0.000395  0.000175]  +-  [  1.29000000e-05   1.23000000e-04]\n",
      "Saugvermögen S[l/s] =  19.8+/-2.6\n",
      " \n"
     ]
    }
   ],
   "source": [
    "pTurboLeck1, STurboLeck1 = Leckrate(pT1, p_gT1, 0.1, t1T1, t2T1, t3T1, VT, \"5mbar-T\")\n",
    "pTurboLeck2, STurboLeck2 = Leckrate(pT2, p_gT2, 0.1, t1T2, t2T2, t3T2, VT, \"10mbar-T\")\n",
    "pTurboLeck3, STurboLeck3 = Leckrate(pT3, p_gT3, 0.1, t1T3, t2T3, t3T3, VT, \"15mbar-T\")\n",
    "pTurboLeck4, STurboLeck4 = Leckrate(pT4, p_gT4, 0.1, t1T4, t2T4, t3T4, VT, \"20mbar-T\")"
   ]
  },
  {
   "cell_type": "code",
   "execution_count": 14,
   "metadata": {
    "ExecuteTime": {
     "end_time": "2017-06-10T09:29:50.121763",
     "start_time": "2017-06-10T09:29:50.119409"
    },
    "collapsed": false,
    "hidden": true
   },
   "outputs": [],
   "source": [
    "pTurboLeck = (pTurboLeck1, pTurboLeck2, pTurboLeck3, pTurboLeck4)\n",
    "STurboLeck = (STurboLeck1, STurboLeck2, STurboLeck3, STurboLeck4)"
   ]
  },
  {
   "cell_type": "markdown",
   "metadata": {
    "heading_collapsed": true
   },
   "source": [
    "# Bestimmung des Saugvermögens über die p(t)-Kurve"
   ]
  },
  {
   "cell_type": "markdown",
   "metadata": {
    "collapsed": true,
    "hidden": true
   },
   "source": [
    "## Für die Drehschieberpumpe"
   ]
  },
  {
   "cell_type": "code",
   "execution_count": 15,
   "metadata": {
    "ExecuteTime": {
     "end_time": "2017-06-10T09:29:52.977739",
     "start_time": "2017-06-10T09:29:50.122799"
    },
    "collapsed": false,
    "hidden": true
   },
   "outputs": [
    {
     "name": "stdout",
     "output_type": "stream",
     "text": [
      "t =  [  16.    26.    32.4   40.    47.2   49.6   52.8   57.    63.6   70.8\n",
      "   73.6   77.8   84.4   96.8  108.4  114.   124.4  155.2]\n",
      "terr =  [ 0.31622777  0.31622777  0.50990195  0.4472136   0.37416574  0.4\n",
      "  0.37416574  0.31622777  0.24494897  0.37416574  0.4         0.48989795\n",
      "  0.50990195  0.37416574  0.50990195  0.31622777  0.50990195  2.596151  ]\n",
      "y-Achse des Plottes = [ -2.31568159  -2.82664059  -3.23227243  -3.92591999  -4.62006867\n",
      "  -4.84371335  -5.13223119  -5.53936994  -6.23755492  -6.94085447\n",
      "  -7.16911312  -7.46537894  -7.88823579  -8.63545019  -9.44638041\n",
      "  -9.73406248 -10.13952759 -10.83267477]\n",
      "Fehler der y-Achse = [ 0.2828738   0.28289267  0.28291628  0.28298717  0.28312933  0.2832006\n",
      "  0.28331966  0.28355882  0.28428473  0.2857753   0.28654043  0.28784591\n",
      "  0.29057465  0.29979651  0.32403886  0.33993618  0.37416679  0.48989795]\n",
      "Parameter a und b = [-0.05546869 -1.41590814] +- [ 0.00332188  0.08537858]\n",
      "Parameter a und b = [-0.09726175 -0.02137723] +- [ 0.00136012  0.0710432 ]\n",
      "Parameter a und b = [-0.06449298 -2.41651277] +- [ 0.00179371  0.1456685 ]\n",
      "Parameter a und b = [-0.02836642 -6.47817615] +- [ 0.00348401  0.44175856]\n",
      "S1 = 0.57+/-0.06\n",
      "S2 = 0.99+/-0.08\n",
      "S3 = 0.66+/-0.05\n",
      "S4 = 0.29+/-0.04\n"
     ]
    },
    {
     "data": {
      "image/png": "[encoded data removed]",
      "text/plain": [
       "<matplotlib.figure.Figure at 0x7fe4641f7ef0>"
      ]
     },
     "metadata": {},
     "output_type": "display_data"
    }
   ],
   "source": [
    "pDrehPt, SDrehPt, BereicheDrehPt = ptKurveDreh(p_D, p0D, peD, t_1D, t_2D, t_3D, t_4D, t_5D, VD)"
   ]
  },
  {
   "cell_type": "markdown",
   "metadata": {
    "hidden": true
   },
   "source": [
    "## Für die Turbopumpe"
   ]
  },
  {
   "cell_type": "code",
   "execution_count": 16,
   "metadata": {
    "ExecuteTime": {
     "end_time": "2017-06-10T09:29:55.609821",
     "start_time": "2017-06-10T09:29:52.978715"
    },
    "collapsed": false,
    "hidden": true
   },
   "outputs": [
    {
     "name": "stdout",
     "output_type": "stream",
     "text": [
      "t =  [  0.53333333   1.58333333   1.73333333   1.98333333   2.25         2.51666667\n",
      "   2.91666667   3.4          4.16666667   5.4          5.76666667   6.\n",
      "   6.35         6.73333333   7.26666667   8.03333333   9.28333333\n",
      "  10.56666667  14.63333333]\n",
      "terr =  [ 0.10219806  0.08724168  0.10540926  0.11948966  0.1147461   0.12494443\n",
      "  0.10775487  0.12909944  0.14757296  0.15275252  0.15634719  0.12909944\n",
      "  0.14317821  0.1498147   0.15420045  0.18196459  0.24686929  0.38180856\n",
      "  1.47978977]\n",
      "y-Achse des Plottes = [-0.92202891 -1.73232833 -1.8528108  -1.98982365 -2.1486352  -2.33751868\n",
      " -2.57058658 -2.87503128 -3.31488892 -4.1189368  -4.25070608 -4.40251209\n",
      " -4.58156032 -4.79981389 -5.07939875 -5.46886352 -6.11549068 -6.72162648\n",
      " -8.51338595]\n",
      "Fehler der y-Achse = [ 0.14237103  0.14323256  0.14343332  0.1436942   0.14404694  0.14455032\n",
      "  0.14532684  0.14668051  0.14962755  0.16078086  0.16383081  0.16799603\n",
      "  0.17399711  0.18331553  0.19950161  0.23339811  0.33787525  0.53265738\n",
      "  2.76018606]\n",
      "Parameter a und b = [-0.64853719 -0.67448074] +- [ 0.01741515  0.04442045]\n",
      "Parameter a und b = [-0.5245423  -1.25841283] +- [ 0.00915646  0.06008415]\n",
      "Parameter a und b = [-0.44636493 -1.98611748] +- [ 0.00612517  0.07177776]\n",
      "S1 = 6.5+/-0.5\n",
      "S2 = 5.2+/-0.4\n",
      "S3 = 4.5+/-0.4\n"
     ]
    },
    {
     "data": {
      "image/png": "[encoded data removed]",
      "text/plain": [
       "<matplotlib.figure.Figure at 0x7fe463e98358>"
      ]
     },
     "metadata": {},
     "output_type": "display_data"
    }
   ],
   "source": [
    "ptKurveTurbo(p_T, p0T, peT, t_1T, t_2T, t_3T, t_4T, t_5T, t_6T, VT)"
   ]
  },
  {
   "cell_type": "code",
   "execution_count": null,
   "metadata": {
    "collapsed": true,
    "hidden": true
   },
   "outputs": [],
   "source": []
  },
  {
   "cell_type": "code",
   "execution_count": null,
   "metadata": {
    "collapsed": true,
    "hidden": true
   },
   "outputs": [],
   "source": []
  }
 ],
 "metadata": {
  "anaconda-cloud": {},
  "kernelspec": {
   "display_name": "Python [default]",
   "language": "python",
   "name": "python3"
  },
  "language_info": {
   "codemirror_mode": {
    "name": "ipython",
    "version": 3
   },
   "file_extension": ".py",
   "mimetype": "text/x-python",
   "name": "python",
   "nbconvert_exporter": "python",
   "pygments_lexer": "ipython3",
   "version": "3.5.2"
  }
 },
 "nbformat": 4,
 "nbformat_minor": 2
}
