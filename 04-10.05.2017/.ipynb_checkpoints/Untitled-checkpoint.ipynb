{
 "cells": [
  {
   "cell_type": "code",
   "execution_count": 30,
   "metadata": {
    "ExecuteTime": {
     "end_time": "2017-05-16T14:14:05.441816Z",
     "start_time": "2017-05-16T14:14:05.434278Z"
    },
    "collapsed": false
   },
   "outputs": [],
   "source": [
    "import matplotlib.pyplot as plt\n",
    "import numpy as np\n",
    "import math\n",
    "from scipy.optimize import curve_fit\n",
    "from uncertainties import ufloat\n",
    "import uncertainties.unumpy as unp\n",
    "import scipy.constants as c\n",
    "from scipy import stats\n",
    "\n",
    "%matplotlib inline\n",
    "plt.rc('axes', titlesize=20)\n",
    "plt.rc('axes', labelsize=20)\n",
    "plt.rc('xtick', labelsize=15)\n",
    "plt.rc('ytick', labelsize=15)\n",
    "plt.rc('legend', fontsize=15)"
   ]
  },
  {
   "cell_type": "markdown",
   "metadata": {
    "heading_collapsed": true
   },
   "source": [
    "# Messdaten"
   ]
  },
  {
   "cell_type": "markdown",
   "metadata": {
    "heading_collapsed": true,
    "hidden": true
   },
   "source": [
    "## Volumenbestimmung in cm$^3$"
   ]
  },
  {
   "cell_type": "code",
   "execution_count": 31,
   "metadata": {
    "ExecuteTime": {
     "end_time": "2017-05-16T14:14:05.929225Z",
     "start_time": "2017-05-16T14:14:05.453030Z"
    },
    "collapsed": false,
    "hidden": true
   },
   "outputs": [
    {
     "name": "stdout",
     "output_type": "stream",
     "text": [
      "V-Rezipient =  (7.3+/-0.7)e+03\n",
      "V-Schlauch =  (4.7+/-1.2)e+02\n",
      "V-Nadelventil + T-Stück =  144+/-16\n",
      "V-Turbo =  (2.5+/-0.5)e+02\n",
      "V-Pirani =  14+/-4\n",
      "V-Anschluss =  168+/-17\n",
      "VD =  8.4+/-0.7\n",
      "VT =  8.2+/-0.7\n"
     ]
    }
   ],
   "source": [
    "# Rezipient für beide\n",
    "drez1 = ufloat(15.2, 0.7)\n",
    "lrez1 = ufloat(39.1, 0.5)\n",
    "Vrez1 = np.pi * lrez1 * drez1**2 / 4\n",
    "\n",
    "drez2 = ufloat(2.2, 0.2)\n",
    "lrez2 = ufloat(7.2, 0.5)\n",
    "Vrez2 = np.pi * lrez2 * drez2**2 / 4\n",
    "\n",
    "drez3 = ufloat(3.2, 0.2)\n",
    "lrez3 = ufloat(8.1, 0.5)\n",
    "Vrez3 = np.pi * lrez3 * drez3**2 / 4\n",
    "\n",
    "drez4 = ufloat(4.0, 0.2)\n",
    "lrez4 = ufloat(12.9, 0.5)\n",
    "Vrez4 = np.pi * lrez4 * drez4**2 / 4\n",
    "\n",
    "VRez = Vrez1 + Vrez2 + Vrez3 + Vrez4\n",
    "print(\"V-Rezipient = \", VRez)\n",
    "\n",
    "\n",
    "\n",
    "# Schlauch für beide\n",
    "dS = ufloat(3.9, 0.5)\n",
    "lS = ufloat(39, 0.5)\n",
    "VS = np.pi * lS * dS**2 / 4\n",
    "print(\"V-Schlauch = \", VS)\n",
    "\n",
    "\n",
    "\n",
    "# Nadelventil\n",
    "dnadel = ufloat(1.0, 0.5)\n",
    "lnadel = ufloat(2.5, 0.5)\n",
    "Vnadel = np.pi * lnadel * dnadel**2 / 4\n",
    "\n",
    "# Kugelventil\n",
    "dkugel = ufloat(1.6, 0.5)\n",
    "lkugel = ufloat(7.4, 0.2)\n",
    "Vkugel = np.pi * lkugel * dkugel**2 / 4\n",
    "\n",
    "# T-Stück für das Nadelventil\n",
    "dnadelT1 = ufloat(4, 0.2)\n",
    "lnadelT1 = ufloat(10, 0.2)\n",
    "VnadelT1 = np.pi * lnadelT1 * dnadelT1**2 / 4\n",
    "\n",
    "dnadelT2 = ufloat(1, 0.2)\n",
    "lnadelT2 = ufloat(2.4, 0.5)\n",
    "VnadelT2 = np.pi * lnadelT2* dnadelT2**2 / 4\n",
    "\n",
    "VnadelT = VnadelT1 + VnadelT2\n",
    "VNadel = Vnadel + Vkugel + VnadelT\n",
    "print(\"V-Nadelventil + T-Stück = \", VNadel)\n",
    "\n",
    "\n",
    "\n",
    "# T-Stück (von der Turbopumpe) für beide\n",
    "dturbo1 = ufloat(4, 0.5)\n",
    "lturbo1 = ufloat(16, 0.5)\n",
    "Vturbo1 = np.pi * lturbo1 * dturbo1**2 / 4\n",
    "\n",
    "dturbo2 = ufloat(3.9, 0.5)\n",
    "lturbo2 = ufloat(4.5, 0.5)\n",
    "Vturbo2 = np.pi * lturbo2 * dturbo2**2 / 4\n",
    "\n",
    "VTurbo = Vturbo1 + Vturbo2\n",
    "print(\"V-Turbo = \", VTurbo)\n",
    "\n",
    "\n",
    "\n",
    "# T-Stück (pirani) nur für Drehschieberpumpe\n",
    "dpirani1 = ufloat(1.3, 0.2)\n",
    "lpirani1 = ufloat(8, 0.2)\n",
    "Vpirani1 = np.pi * lpirani1 * dpirani1**2 / 4\n",
    "\n",
    "dpirani2 = ufloat(1.2, 0.2)\n",
    "lpirani2 = ufloat(3.3, 0.5)\n",
    "Vpirani2 = np.pi * lpirani2 * dpirani2**2 / 4\n",
    "\n",
    "VPirani = Vpirani1 + Vpirani2\n",
    "print(\"V-Pirani = \", VPirani)\n",
    "\n",
    "\n",
    "\n",
    "# T-Stück (anschluss) nur für Drehschieberpumpe\n",
    "dan1 = ufloat(4, 0.2)\n",
    "lan1 = ufloat(13, 0.2)\n",
    "Van1 = np.pi * lan1 * dan1**2 / 4\n",
    "\n",
    "dan2 = ufloat(1.6, 0.2)\n",
    "lan2 = ufloat(2.5, 0.5)\n",
    "Van2 = np.pi * lan2 * dan2**2 / 4\n",
    "\n",
    "VAn = Van1 + Van2\n",
    "print(\"V-Anschluss = \", VAn)\n",
    "\n",
    "\n",
    "\n",
    "# Gesamtvolumen in l für die Drehschieberpumpe\n",
    "VD = VRez + VS + VNadel + VTurbo + VPirani + VAn\n",
    "VD = VD / 1000\n",
    "print(\"VD = \", VD)\n",
    "\n",
    "VT = VRez + VS + VNadel + VTurbo\n",
    "VT = VT / 1000\n",
    "print(\"VT = \", VT)"
   ]
  },
  {
   "cell_type": "markdown",
   "metadata": {
    "heading_collapsed": true,
    "hidden": true
   },
   "source": [
    "## Daten für die Drehschieberpumpe"
   ]
  },
  {
   "cell_type": "code",
   "execution_count": 32,
   "metadata": {
    "ExecuteTime": {
     "end_time": "2017-05-16T14:14:06.013975Z",
     "start_time": "2017-05-16T14:14:05.930411Z"
    },
    "collapsed": true,
    "hidden": true
   },
   "outputs": [],
   "source": [
    "VD = ufloat(8.4, 0.7)\n",
    "\n",
    "# Anfangsdruck p0 = 1013 mbar\n",
    "p0D = ufloat(1013, 202.6)\n",
    "\n",
    "# Enddruck pe = 0.02 mbar\n",
    "peD = ufloat(0.02, 0.004)\n",
    "\n",
    "# Daten für die p(t)-Kurve der Drehschieberpumpe\n",
    "p_D, t_1D, t_2D, t_3D, t_4D, t_5D = np.genfromtxt('data/p(t)-Kurve-Drehschieberpumpe.txt', unpack=True)\n",
    "\n",
    "# Daten für die Leckratenmessung der Drehschieberpumpe\n",
    "# Anfangsdruck p_g = 0.1 mbar\n",
    "p_gD1 = 0.1\n",
    "pD1, t1D1, t2D1, t3D1 = np.genfromtxt('data/Leckratenmessung-0.1mbar-Drehschieberpumpe.txt', unpack=True)\n",
    "\n",
    "# Anfangsdruck p_g = 0.4 mbar\n",
    "p_gD2 = 0.4\n",
    "pD2, t1D2, t2D2, t3D2 = np.genfromtxt('data/Leckratenmessung-0.4mbar-Drehschieberpumpe.txt', unpack=True)\n",
    "\n",
    "# Anfangsdruck p_g = 0.6 mbar\n",
    "p_gD3 = 0.6\n",
    "pD3, t1D3, t2D3, t3D3 = np.genfromtxt('data/Leckratenmessung-0.6mbar-Drehschieberpumpe.txt', unpack=True)\n",
    "\n",
    "# Anfangsdruck p_g = 0.8 mbar\n",
    "p_gD4 = 0.8\n",
    "pD4, t1D4, t2D4, t3D4 = np.genfromtxt('data/Leckratenmessung-0.8mbar-Drehschieberpumpe.txt', unpack=True)\n",
    "\n",
    "# Anfangsdruck p_g = 1.0 mbar\n",
    "p_gD5 = 1.0\n",
    "pD5, t1D5, t2D5, t3D5 = np.genfromtxt('data/Leckratenmessung-1.0mbar-Drehschieberpumpe.txt', unpack=True)\n"
   ]
  },
  {
   "cell_type": "markdown",
   "metadata": {
    "heading_collapsed": true,
    "hidden": true
   },
   "source": [
    "## Daten für die Turbopumpe"
   ]
  },
  {
   "cell_type": "code",
   "execution_count": 33,
   "metadata": {
    "ExecuteTime": {
     "end_time": "2017-05-16T14:14:06.086979Z",
     "start_time": "2017-05-16T14:14:06.015337Z"
    },
    "collapsed": false,
    "hidden": true
   },
   "outputs": [],
   "source": [
    "VT = ufloat(8.2, 0.7)\n",
    "\n",
    "# Anfangsdruck p0 = 5 * 10^-3 mbar\n",
    "p0T = ufloat(5 * 10**(-3), 5 * 10**(-4))\n",
    "\n",
    "# Enddruck pe = 2 * 10^-5 mbar\n",
    "peT = ufloat(1.9 * 10**(-5), 1.9 * 10**(-6))\n",
    "\n",
    "# Daten für die p(t)-Kurve der Drehschieberpumpe\n",
    "p_T, t_1T, t_2T, t_3T, t_4T, t_5T, t_6T = np.genfromtxt('data/p(t)-Kurve-Turbopumpe.txt', unpack=True)\n",
    "p_T *= 10**(-4)\n",
    "\n",
    "# Daten für die Leckratenmessung der Drehschieberpumpe\n",
    "# Anfangsdruck p_g = 5 * 10^-5 mbar\n",
    "p_gT1 = 5 * 10**(-5)\n",
    "pT1, t1T1, t2T1, t3T1 = np.genfromtxt('data/Leckratenmessung-5mbar-Turbopumpe.txt', unpack=True)\n",
    "pT1 *= 10**(-4)\n",
    "\n",
    "# Anfangsdruck p_g = 10 * 10^-5 mbar\n",
    "p_gT2 = 10 * 10**(-5)\n",
    "pT2, t1T2, t2T2, t3T2 = np.genfromtxt('data/Leckratenmessung-10mbar-Turbopumpe.txt', unpack=True)\n",
    "pT2 *= 10**(-4)\n",
    "\n",
    "# Anfangsdruck p_g = 15 * 10^-5 mbar\n",
    "p_gT3 = 15 * 10**(-5)\n",
    "pT3, t1T3, t2T3, t3T3 = np.genfromtxt('data/Leckratenmessung-15mbar-Turbopumpe.txt', unpack=True)\n",
    "pT3 *= 10**(-4)\n",
    "\n",
    "# Anfangsdruck p_g = 20 * 10^-5 mbar\n",
    "p_gT4 = 20 * 10**(-5)\n",
    "pT4, t1T4, t2T4, t3T4 = np.genfromtxt('data/Leckratenmessung-20mbar-Turbopumpe.txt', unpack=True)\n",
    "pT4 *= 10**(-4)"
   ]
  },
  {
   "cell_type": "markdown",
   "metadata": {},
   "source": [
    "# Funktionen"
   ]
  },
  {
   "cell_type": "code",
   "execution_count": 34,
   "metadata": {
    "ExecuteTime": {
     "end_time": "2017-05-16T14:14:06.189272Z",
     "start_time": "2017-05-16T14:14:06.088351Z"
    },
    "collapsed": true
   },
   "outputs": [],
   "source": [
    "def f(x, a, b):\n",
    "    return a * x + b"
   ]
  },
  {
   "cell_type": "markdown",
   "metadata": {
    "heading_collapsed": true
   },
   "source": [
    "## Funktion zur Bestimmung des Saugvermögens S aus der Leckrate"
   ]
  },
  {
   "cell_type": "code",
   "execution_count": 54,
   "metadata": {
    "ExecuteTime": {
     "end_time": "2017-05-16T14:24:43.162096Z",
     "start_time": "2017-05-16T14:24:43.126764Z"
    },
    "collapsed": false,
    "hidden": true
   },
   "outputs": [],
   "source": [
    "def Leckrate(p, p_g, err, t1, t2, t3, V, name):\n",
    "    n = len(p)\n",
    "    t = np.zeros(n)\n",
    "    terr = np.zeros(n)\n",
    "        \n",
    "    # Mittelwert und Fehler der Zeit\n",
    "    for i in range(n):\n",
    "        t[i] = (t1[i] + t2[i] + t3[i])/3\n",
    "        terr[i] = stats.sem([t1[i], t2[i], t3[i]])\n",
    "        \n",
    "    # Fehler vom Druck\n",
    "    perr = p * err\n",
    "    p_g = ufloat(p_g, p_g*err)\n",
    "    \n",
    "    # lineare Regression\n",
    "    params, covariance = curve_fit(f, t, p, sigma=perr)\n",
    "    errors = np.sqrt(np.diag(covariance))\n",
    "    \n",
    "    # plottet das ganze\n",
    "    x = np.linspace(t[0]-20, t[-1]+20, 20)\n",
    "    plt.errorbar(t, p, xerr=terr, yerr=perr, c='blue', fmt='o', label='Messdaten')\n",
    "    plt.plot(x, f(x, *params), c='red', label='lineare Regression')\n",
    "    plt.xlabel(r'$t$ / s')\n",
    "    plt.ylabel(r'$p$ / mbar')\n",
    "    plt.xlim(t[0]-20, t[-1]+20)\n",
    "    plt.legend(loc='best')\n",
    "    plt.grid()\n",
    "    plt.tight_layout()\n",
    "    plt.savefig(\"pictures/Leck-\"+name+\".pdf\")\n",
    "    plt.close()\n",
    "    \n",
    "    # Berechnung des Saugvermögens aus der Steigung\n",
    "    S = V.n * params[0] / p_g.n\n",
    "    deltaS = math.sqrt( (params[0]/p_g.n)**2*(V.s)**2 + ((V.n*params[0])/(p_g.n)**2)**2*(p_g.s)**2 + (V.n/p_g.n)**2*(errors[0])**2 )\n",
    "    \n",
    "    print(\"Druck p[mbar] =\", p)\n",
    "    print(\"Fehler vom Druck perr =\", perr)\n",
    "    print(\"Mittelwert der Zeit t[s] =\", t.round(3), terr.round(3))\n",
    "    print(\"Parameter a und b =\", params, \" +- \", errors)\n",
    "    print(\"Saugvermögen S[l/s] =\", S, \"+-\", deltaS)\n",
    "    print(\" \")\n",
    "    "
   ]
  },
  {
   "cell_type": "markdown",
   "metadata": {},
   "source": [
    "## Funktion zur Bestimmung des Saugvermögens S aus der p(t)-Kurve für die Drehschieberpumpe"
   ]
  },
  {
   "cell_type": "code",
   "execution_count": 51,
   "metadata": {
    "ExecuteTime": {
     "end_time": "2017-05-16T14:21:18.828658Z",
     "start_time": "2017-05-16T14:21:18.682699Z"
    },
    "collapsed": false
   },
   "outputs": [],
   "source": [
    "def ptKurveDreh(p, p0, pe, t1, t2, t3, t4, t5, V, name, err=0.2):\n",
    "    n = len(p)\n",
    "    t = np.zeros(n)\n",
    "    terr = np.zeros(n)\n",
    "\n",
    "    # Mittelwert und Fehler der Zeit\n",
    "    for i in range(n):\n",
    "        t[i] = (t1[i] + t2[i] + t3[i] + t4[i] + t5[i]) / 5\n",
    "        terr[i] = stats.sem([t1[i], t2[i], t3[i], t4[i], t5[i]])\n",
    "    print(\"t = \", t)\n",
    "    print(\"terr = \", terr)\n",
    "\n",
    "    # Fehler vom Druck\n",
    "    perr = p * err\n",
    "    \n",
    "    # y-Achse\n",
    "    logP = -np.log( (p-pe.n) / (p0.n-pe.n) ) * V.n\n",
    "    print(\"y-Achse des Plottes =\", logP)\n",
    "    \n",
    "    # Fehler von logP\n",
    "    deltalogP = np.sqrt( ((V.n*perr) / (pe.n-p))**2 \n",
    "                        + ((V.n*p0.s) / (p0.n-pe.n))**2 \n",
    "                        + (((p0.n-p)*V.n*pe.s) / ((pe.n-p0.n)*(pe.n-p)))**2 \n",
    "                        + (np.log( (p-pe.n) / (p0.n-pe.n))*V.s)**2 ) \n",
    "    print(\"Fehler der y-Achse =\", deltalogP)\n",
    "    \n",
    "    # Bereiche bestimmen und lineare Regression\n",
    "    t_1 = t[0:3]\n",
    "    terr_1 = terr[0:3]\n",
    "    perr_1 = deltalogP[0:3]\n",
    "    logP_1 = logP[0:3]\n",
    "    params_1, covariance_1 = curve_fit(f, t_1, logP_1, sigma=perr_1)\n",
    "    errors_1 = np.sqrt(np.diag(covariance_1))\n",
    "    t1 = np.linspace(t_1[0]-10, t_1[-1]+10)\n",
    "    print(\"Parameter a und b =\", params_1, \"+-\", errors_1)\n",
    "    \n",
    "    t_2 = t[3:9]\n",
    "    terr_2 = terr[3:9]\n",
    "    perr_2 = deltalogP[3:9]\n",
    "    logP_2 = logP[3:9]\n",
    "    params_2, covariance_2 = curve_fit(f, t_2, logP_2, sigma=perr_2)\n",
    "    errors_2 = np.sqrt(np.diag(covariance_2))\n",
    "    t2 = np.linspace(t_2[0]-10, t_2[-1]+10)\n",
    "    print(\"Parameter a und b =\", params_2, \"+-\", errors_2)\n",
    "    \n",
    "    t_3 = t[9:14]\n",
    "    terr_3 = terr[9:14]\n",
    "    perr_3 = deltalogP[9:14]\n",
    "    logP_3 = logP[9:14]\n",
    "    params_3, covariance_3 = curve_fit(f, t_3, logP_3, sigma=perr_3)\n",
    "    errors_3 = np.sqrt(np.diag(covariance_3))\n",
    "    t3 = np.linspace(t_3[0]-10, t_3[-1]+10)\n",
    "    print(\"Parameter a und b =\", params_3, \"+-\", errors_3)\n",
    "    \n",
    "    t_4 = t[14:18]\n",
    "    terr_4 = terr[14:18]\n",
    "    perr_4 = deltalogP[14:18]\n",
    "    logP_4 = logP[14:18]\n",
    "    params_4, covariance_4 = curve_fit(f, t_4, logP_4, sigma=perr_4)\n",
    "    errors_4 = np.sqrt(np.diag(covariance_4))\n",
    "    t4 = np.linspace(t_4[0]-10, t_4[-1]+10)\n",
    "    print(\"Parameter a und b =\", params_4, \"+-\", errors_4)\n",
    "    \n",
    "    \n",
    "    # plottet alles\n",
    "    plt.errorbar(t_1, logP_1, xerr=terr_1, yerr=perr_1, c='green', fmt='.')\n",
    "    plt.plot(t1, f(t1, *params_1), c='green')\n",
    "    \n",
    "    plt.errorbar(t_2, logP_2, xerr=terr_2, yerr=perr_2, c='blue', fmt='.')\n",
    "    plt.plot(t2, f(t2, *params_2), c='blue')\n",
    "    \n",
    "    plt.errorbar(t_3, logP_3, xerr=terr_3, yerr=perr_3, c='yellow', fmt='.')\n",
    "    plt.plot(t3, f(t3, *params_3), c='yellow')\n",
    "    \n",
    "    plt.errorbar(t_4, logP_4, xerr=terr_4, yerr=perr_4, c='red', fmt='.')\n",
    "    plt.plot(t4, f(t4, *params_4), c='red')\n",
    "    \n",
    "    plt.xlabel(r'$t$ / s')\n",
    "    plt.ylabel(r'-ln$\\left(\\frac{p-p_e}{p_0-p_e}\\right)\\cdot V_0$ / l')\n",
    "    plt.xlim(t[0]-20, t[-1]+20)\n",
    "    plt.legend(loc='best')\n",
    "    plt.tight_layout()\n",
    "    plt.savefig(\"pictures/pt-Kurve-Drehschieberpumpe.pdf\")"
   ]
  },
  {
   "cell_type": "code",
   "execution_count": 52,
   "metadata": {
    "ExecuteTime": {
     "end_time": "2017-05-16T14:21:20.230812Z",
     "start_time": "2017-05-16T14:21:19.154938Z"
    },
    "collapsed": false,
    "scrolled": true
   },
   "outputs": [
    {
     "name": "stdout",
     "output_type": "stream",
     "text": [
      "t =  [  16.    26.    32.4   40.    47.2   49.6   52.8   57.    63.6   70.8\n",
      "   73.6   77.8   84.4   96.8  108.4  114.   124.4  155.2]\n",
      "terr =  [ 0.31622777  0.31622777  0.50990195  0.4472136   0.37416574  0.4\n",
      "  0.37416574  0.31622777  0.24494897  0.37416574  0.4         0.48989795\n",
      "  0.50990195  0.37416574  0.50990195  0.31622777  0.50990195  2.596151  ]\n",
      "y-Achse des Plottes = [ 19.4517254   23.74378093  27.15108843  32.97772789  38.80857683\n",
      "  40.68719213  43.11074202  46.53070751  52.39546129  58.30317753\n",
      "  60.22055021  62.70918306  66.26118061  72.53778159  79.3495954\n",
      "  81.76612481  85.17203172  90.99446804]\n",
      "Fehler der y-Achse = [ 2.87638795  3.09222312  3.28131884  3.63357439  4.01438825  4.14189062\n",
      "  4.30933332  4.55070135  4.97664337  5.41926526  5.56574235  5.75802834\n",
      "  6.03717866  6.5484027   7.15077576  7.38797271  7.76243295  8.62753458]\n",
      "Parameter a und b = [  0.46394729  11.94087006] +- [ 0.02727217  0.68211939]\n",
      "Parameter a und b = [ 0.81340456  0.3626551 ] +- [ 0.01065569  0.54111265]\n",
      "Parameter a und b = [  0.54453213  20.07319714] +- [ 0.01600976  1.28055527]\n",
      "Parameter a und b = [  0.2422018   53.91812234] +- [ 0.03144535  3.90700842]\n"
     ]
    },
    {
     "data": {
      "image/png": "[encoded data removed]",
      "text/plain": [
       "<matplotlib.figure.Figure at 0x7f862eaa66a0>"
      ]
     },
     "metadata": {},
     "output_type": "display_data"
    }
   ],
   "source": [
    "ptKurveDreh(p_D, p0D, peD, t_1D, t_2D, t_3D, t_4D, t_5D, VD, \"test\")"
   ]
  },
  {
   "cell_type": "markdown",
   "metadata": {
    "heading_collapsed": true
   },
   "source": [
    "## Funktion zur Bestimmung des Saugvermögens S aus der p(t)-Kurve für die Turbopumpe"
   ]
  },
  {
   "cell_type": "code",
   "execution_count": 38,
   "metadata": {
    "ExecuteTime": {
     "end_time": "2017-05-16T14:14:07.729915Z",
     "start_time": "2017-05-16T14:14:07.668738Z"
    },
    "collapsed": false,
    "hidden": true
   },
   "outputs": [],
   "source": [
    "def ptKurveTurbo(p, p0, pe, t1, t2, t3, t4, t5, t6, V, name, err=0.1):\n",
    "    n = len(p)\n",
    "    t = np.zeros(n)\n",
    "    terr = np.zeros(n)\n",
    "    V = np.array([V])\n",
    "\n",
    "    # Mittelwert und Fehler der Zeit\n",
    "    for i in range(n):\n",
    "        t[i] = (t1[i] + t2[i] + t3[i] + t4[i] + t5[i] + t6[i]) / 6\n",
    "        terr[i] = stats.sem([t1[i], t2[i], t3[i], t4[i], t5[i], t6[i]])\n",
    "    print(\"t = \", t)\n",
    "    print(\"terr = \", terr)\n",
    "    \n",
    "    # Fehler vom Druck\n",
    "    perr = p * err\n",
    "    \n",
    "    # y-Achse\n",
    "    logP = -np.log( (p-pe) / (p0-pe) ) * unp.nominal_values(V)\n",
    "    print(\"y-Achse des Plottes =\", logP)\n",
    "    \n",
    "    # Bereiche bestimmen und lineare Regression\n",
    "    t_1 = t[1:9]\n",
    "    terr_1 = terr[1:9]\n",
    "    logP_1 = logP[1:9]\n",
    "    params_1, covariance_1 = curve_fit(f, t_1, logP_1)\n",
    "    errors_1 = np.sqrt(np.diag(covariance_1))\n",
    "    t1 = np.linspace(t_1[0]-2, t_1[-1]+2)\n",
    "    print(\"Parameter a und b =\", params_1, \"+-\", errors_1)\n",
    "    \n",
    "    t_2 = t[9:16]\n",
    "    terr_2 = terr[9:16]\n",
    "    logP_2 = logP[9:16]\n",
    "    params_2, covariance_2 = curve_fit(f, t_2, logP_2)\n",
    "    errors_2 = np.sqrt(np.diag(covariance_2))\n",
    "    t2 = np.linspace(t_2[0]-2, t_2[-1]+2)\n",
    "    print(\"Parameter a und b =\", params_2, \"+-\", errors_2)\n",
    "    \n",
    "    t_3 = t[16:19]\n",
    "    terr_3 = terr[16:19]\n",
    "    logP_3 = logP[16:19]\n",
    "    params_3, covariance_3 = curve_fit(f, t_3, logP_3)\n",
    "    errors_3 = np.sqrt(np.diag(covariance_3))\n",
    "    t3 = np.linspace(t_3[0]-2, t_3[-1]+2)\n",
    "    print(\"Parameter a und b =\", params_3, \"+-\", errors_3)\n",
    "    \n",
    "    # plottet alles\n",
    "    plt.plot(t, logP, 'y.')\n",
    "    plt.errorbar(t_1, logP_1, xerr=terr_1, yerr=0, c='green', fmt='.')\n",
    "    plt.plot(t1, f(t1, *params_1), c='green')\n",
    "    \n",
    "    plt.errorbar(t_2, logP_2, xerr=terr_2, yerr=0, c='blue', fmt='.')\n",
    "    plt.plot(t2, f(t2, *params_2), c='blue')\n",
    "    \n",
    "    plt.errorbar(t_3, logP_3, xerr=terr_3, yerr=0, c='red', fmt='.')\n",
    "    plt.plot(t3, f(t3, *params_3), c='red')\n",
    "    \n",
    "    plt.xlabel(r'$t$ / s')\n",
    "    plt.ylabel(r'-ln$\\left(\\frac{p-p_e}{p_0-p_e}\\right)\\cdot V_0$ / l')\n",
    "    plt.xlim(t[0]-2, t[-1]+2)\n",
    "    plt.legend(loc='best')\n",
    "    plt.savefig(\"pictures/pt-Kurve-Turbopumpe.pdf\")"
   ]
  },
  {
   "cell_type": "code",
   "execution_count": 39,
   "metadata": {
    "ExecuteTime": {
     "end_time": "2017-05-16T14:14:07.843312Z",
     "start_time": "2017-05-16T14:14:07.731217Z"
    },
    "collapsed": false,
    "hidden": true
   },
   "outputs": [
    {
     "name": "stdout",
     "output_type": "stream",
     "text": [
      "t =  [  0.53333333   1.58333333   1.73333333   1.98333333   2.25         2.51666667\n",
      "   2.91666667   3.4          4.16666667   5.4          5.76666667   6.\n",
      "   6.35         6.73333333   7.26666667   8.03333333   9.28333333\n",
      "  10.56666667  14.63333333]\n",
      "terr =  [ 0.10219806  0.08724168  0.10540926  0.11948966  0.1147461   0.12494443\n",
      "  0.10775487  0.12909944  0.14757296  0.15275252  0.15634719  0.12909944\n",
      "  0.14317821  0.1498147   0.15420045  0.18196459  0.24686929  0.38180856\n",
      "  1.47978977]\n"
     ]
    },
    {
     "ename": "AttributeError",
     "evalue": "'AffineScalarFunc' object has no attribute 'log'",
     "output_type": "error",
     "traceback": [
      "\u001b[0;31m---------------------------------------------------------------------------\u001b[0m",
      "\u001b[0;31mAttributeError\u001b[0m                            Traceback (most recent call last)",
      "\u001b[0;32m<ipython-input-39-dcaccc207c00>\u001b[0m in \u001b[0;36m<module>\u001b[0;34m()\u001b[0m\n\u001b[0;32m----> 1\u001b[0;31m \u001b[0mptKurveTurbo\u001b[0m\u001b[0;34m(\u001b[0m\u001b[0mp_T\u001b[0m\u001b[0;34m,\u001b[0m \u001b[0mp0T\u001b[0m\u001b[0;34m,\u001b[0m \u001b[0mpeT\u001b[0m\u001b[0;34m,\u001b[0m \u001b[0mt_1T\u001b[0m\u001b[0;34m,\u001b[0m \u001b[0mt_2T\u001b[0m\u001b[0;34m,\u001b[0m \u001b[0mt_3T\u001b[0m\u001b[0;34m,\u001b[0m \u001b[0mt_4T\u001b[0m\u001b[0;34m,\u001b[0m \u001b[0mt_5T\u001b[0m\u001b[0;34m,\u001b[0m \u001b[0mt_6T\u001b[0m\u001b[0;34m,\u001b[0m \u001b[0mVT\u001b[0m\u001b[0;34m,\u001b[0m \u001b[0;34m\"test\"\u001b[0m \u001b[0;34m)\u001b[0m\u001b[0;34m\u001b[0m\u001b[0m\n\u001b[0m",
      "\u001b[0;32m<ipython-input-38-dc9d7f3c9fc3>\u001b[0m in \u001b[0;36mptKurveTurbo\u001b[0;34m(p, p0, pe, t1, t2, t3, t4, t5, t6, V, name, err)\u001b[0m\n\u001b[1;32m     16\u001b[0m \u001b[0;34m\u001b[0m\u001b[0m\n\u001b[1;32m     17\u001b[0m     \u001b[0;31m# y-Achse\u001b[0m\u001b[0;34m\u001b[0m\u001b[0;34m\u001b[0m\u001b[0m\n\u001b[0;32m---> 18\u001b[0;31m     \u001b[0mlogP\u001b[0m \u001b[0;34m=\u001b[0m \u001b[0;34m-\u001b[0m\u001b[0mnp\u001b[0m\u001b[0;34m.\u001b[0m\u001b[0mlog\u001b[0m\u001b[0;34m(\u001b[0m \u001b[0;34m(\u001b[0m\u001b[0mp\u001b[0m\u001b[0;34m-\u001b[0m\u001b[0mpe\u001b[0m\u001b[0;34m)\u001b[0m \u001b[0;34m/\u001b[0m \u001b[0;34m(\u001b[0m\u001b[0mp0\u001b[0m\u001b[0;34m-\u001b[0m\u001b[0mpe\u001b[0m\u001b[0;34m)\u001b[0m \u001b[0;34m)\u001b[0m \u001b[0;34m*\u001b[0m \u001b[0munp\u001b[0m\u001b[0;34m.\u001b[0m\u001b[0mnominal_values\u001b[0m\u001b[0;34m(\u001b[0m\u001b[0mV\u001b[0m\u001b[0;34m)\u001b[0m\u001b[0;34m\u001b[0m\u001b[0m\n\u001b[0m\u001b[1;32m     19\u001b[0m     \u001b[0mprint\u001b[0m\u001b[0;34m(\u001b[0m\u001b[0;34m\"y-Achse des Plottes =\"\u001b[0m\u001b[0;34m,\u001b[0m \u001b[0mlogP\u001b[0m\u001b[0;34m)\u001b[0m\u001b[0;34m\u001b[0m\u001b[0m\n\u001b[1;32m     20\u001b[0m \u001b[0;34m\u001b[0m\u001b[0m\n",
      "\u001b[0;31mAttributeError\u001b[0m: 'AffineScalarFunc' object has no attribute 'log'"
     ]
    }
   ],
   "source": [
    "ptKurveTurbo(p_T, p0T, peT, t_1T, t_2T, t_3T, t_4T, t_5T, t_6T, VT, \"test\" )"
   ]
  },
  {
   "cell_type": "markdown",
   "metadata": {
    "heading_collapsed": true
   },
   "source": [
    "# Bestimmung des Saugvermögens über die Leckrate"
   ]
  },
  {
   "cell_type": "markdown",
   "metadata": {
    "hidden": true
   },
   "source": [
    "## Für die Drehschieberpumpe"
   ]
  },
  {
   "cell_type": "code",
   "execution_count": null,
   "metadata": {
    "ExecuteTime": {
     "end_time": "2017-05-16T14:14:07.843847Z",
     "start_time": "2017-05-16T12:14:05.498Z"
    },
    "collapsed": false,
    "hidden": true,
    "scrolled": true
   },
   "outputs": [],
   "source": [
    "Leckrate(pD1, p_gD1, 0.2, t1D1, t2D1, t3D1, VD, \"0.1mbar-D\")\n",
    "Leckrate(pD2, p_gD2, 0.2, t1D2, t2D2, t3D2, VD, \"0.4mbar-D\")\n",
    "Leckrate(pD3, p_gD3, 0.2, t1D3, t2D3, t3D3, VD, \"0.6mbar-D\")\n",
    "Leckrate(pD4, p_gD4, 0.2, t1D4, t2D4, t3D4, VD, \"0.8mbar-D\")\n",
    "Leckrate(pD5, p_gD5, 0.2, t1D5, t2D5, t3D5, VD, \"1.0mbar-D\")"
   ]
  },
  {
   "cell_type": "markdown",
   "metadata": {
    "hidden": true
   },
   "source": [
    "## Für die Turbopumpe"
   ]
  },
  {
   "cell_type": "code",
   "execution_count": null,
   "metadata": {
    "ExecuteTime": {
     "end_time": "2017-05-16T14:14:07.844199Z",
     "start_time": "2017-05-16T12:14:05.503Z"
    },
    "collapsed": false,
    "hidden": true,
    "scrolled": true
   },
   "outputs": [],
   "source": [
    "Leckrate(pT1, p_gT1, 0.1, t1T1, t2T1, t3T1, VT, \"5mbar-T\")\n",
    "Leckrate(pT2, p_gT2, 0.1, t1T2, t2T2, t3T2, VT, \"10mbar-T\")\n",
    "Leckrate(pT3, p_gT3, 0.1, t1T3, t2T3, t3T3, VT, \"15mbar-T\")\n",
    "Leckrate(pT4, p_gT4, 0.1, t1T4, t2T4, t3T4, VT, \"20mbar-T\")"
   ]
  },
  {
   "cell_type": "code",
   "execution_count": null,
   "metadata": {
    "collapsed": true,
    "hidden": true
   },
   "outputs": [],
   "source": []
  },
  {
   "cell_type": "code",
   "execution_count": null,
   "metadata": {
    "collapsed": true,
    "hidden": true
   },
   "outputs": [],
   "source": []
  },
  {
   "cell_type": "code",
   "execution_count": null,
   "metadata": {
    "collapsed": true,
    "hidden": true
   },
   "outputs": [],
   "source": []
  }
 ],
 "metadata": {
  "anaconda-cloud": {},
  "kernelspec": {
   "display_name": "Python [default]",
   "language": "python",
   "name": "python3"
  },
  "language_info": {
   "codemirror_mode": {
    "name": "ipython",
    "version": 3
   },
   "file_extension": ".py",
   "mimetype": "text/x-python",
   "name": "python",
   "nbconvert_exporter": "python",
   "pygments_lexer": "ipython3",
   "version": "3.5.2"
  }
 },
 "nbformat": 4,
 "nbformat_minor": 2
}
